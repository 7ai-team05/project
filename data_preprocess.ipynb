{
 "cells": [
  {
   "cell_type": "code",
   "execution_count": 1,
   "id": "c1472379",
   "metadata": {},
   "outputs": [
    {
     "data": {
      "text/html": [
       "<div>\n",
       "<style scoped>\n",
       "    .dataframe tbody tr th:only-of-type {\n",
       "        vertical-align: middle;\n",
       "    }\n",
       "\n",
       "    .dataframe tbody tr th {\n",
       "        vertical-align: top;\n",
       "    }\n",
       "\n",
       "    .dataframe thead th {\n",
       "        text-align: right;\n",
       "    }\n",
       "</style>\n",
       "<table border=\"1\" class=\"dataframe\">\n",
       "  <thead>\n",
       "    <tr style=\"text-align: right;\">\n",
       "      <th></th>\n",
       "      <th>school</th>\n",
       "      <th>image</th>\n",
       "      <th>tag_info</th>\n",
       "    </tr>\n",
       "  </thead>\n",
       "  <tbody>\n",
       "    <tr>\n",
       "      <th>0</th>\n",
       "      <td>가거도초등학교</td>\n",
       "      <td>saved_images/image_83196.jpg</td>\n",
       "      <td>{'total_tag': 4, 'total_label_tag': {'낙엽': 1, ...</td>\n",
       "    </tr>\n",
       "    <tr>\n",
       "      <th>1</th>\n",
       "      <td>가경초등학교</td>\n",
       "      <td>saved_images/image_40152.jpg</td>\n",
       "      <td>{'total_tag': 0, 'total_label_tag': {}}</td>\n",
       "    </tr>\n",
       "    <tr>\n",
       "      <th>2</th>\n",
       "      <td>가거도초등학교</td>\n",
       "      <td>saved_images/image_83555.jpg</td>\n",
       "      <td>{'total_tag': 5, 'total_label_tag': {'종이': 2, ...</td>\n",
       "    </tr>\n",
       "    <tr>\n",
       "      <th>3</th>\n",
       "      <td>가거도초등학교</td>\n",
       "      <td>saved_images/image_93295.jpg</td>\n",
       "      <td>{'total_tag': 1, 'total_label_tag': {'종이': 1}}</td>\n",
       "    </tr>\n",
       "  </tbody>\n",
       "</table>\n",
       "</div>"
      ],
      "text/plain": [
       "    school                         image  \\\n",
       "0  가거도초등학교  saved_images/image_83196.jpg   \n",
       "1   가경초등학교  saved_images/image_40152.jpg   \n",
       "2  가거도초등학교  saved_images/image_83555.jpg   \n",
       "3  가거도초등학교  saved_images/image_93295.jpg   \n",
       "\n",
       "                                            tag_info  \n",
       "0  {'total_tag': 4, 'total_label_tag': {'낙엽': 1, ...  \n",
       "1            {'total_tag': 0, 'total_label_tag': {}}  \n",
       "2  {'total_tag': 5, 'total_label_tag': {'종이': 2, ...  \n",
       "3     {'total_tag': 1, 'total_label_tag': {'종이': 1}}  "
      ]
     },
     "execution_count": 1,
     "metadata": {},
     "output_type": "execute_result"
    }
   ],
   "source": [
    "import pandas as pd\n",
    "df = pd.read_csv('school_attack.csv')\n",
    "df"
   ]
  },
  {
   "cell_type": "code",
   "execution_count": 2,
   "id": "87c5e5f2",
   "metadata": {},
   "outputs": [
    {
     "data": {
      "text/html": [
       "<div>\n",
       "<style scoped>\n",
       "    .dataframe tbody tr th:only-of-type {\n",
       "        vertical-align: middle;\n",
       "    }\n",
       "\n",
       "    .dataframe tbody tr th {\n",
       "        vertical-align: top;\n",
       "    }\n",
       "\n",
       "    .dataframe thead th {\n",
       "        text-align: right;\n",
       "    }\n",
       "</style>\n",
       "<table border=\"1\" class=\"dataframe\">\n",
       "  <thead>\n",
       "    <tr style=\"text-align: right;\">\n",
       "      <th></th>\n",
       "      <th>school</th>\n",
       "      <th>image</th>\n",
       "      <th>tag_info</th>\n",
       "    </tr>\n",
       "  </thead>\n",
       "  <tbody>\n",
       "    <tr>\n",
       "      <th>0</th>\n",
       "      <td>가거도초등학교</td>\n",
       "      <td>saved_images/image_83196.jpg</td>\n",
       "      <td>{'total_tag': 4, 'total_label_tag': {'낙엽': 1, ...</td>\n",
       "    </tr>\n",
       "    <tr>\n",
       "      <th>1</th>\n",
       "      <td>가경초등학교</td>\n",
       "      <td>saved_images/image_40152.jpg</td>\n",
       "      <td>{'total_tag': 0, 'total_label_tag': {}}</td>\n",
       "    </tr>\n",
       "    <tr>\n",
       "      <th>2</th>\n",
       "      <td>가거도초등학교</td>\n",
       "      <td>saved_images/image_83555.jpg</td>\n",
       "      <td>{'total_tag': 5, 'total_label_tag': {'종이': 2, ...</td>\n",
       "    </tr>\n",
       "    <tr>\n",
       "      <th>3</th>\n",
       "      <td>가거도초등학교</td>\n",
       "      <td>saved_images/image_93295.jpg</td>\n",
       "      <td>{'total_tag': 1, 'total_label_tag': {'종이': 1}}</td>\n",
       "    </tr>\n",
       "  </tbody>\n",
       "</table>\n",
       "</div>"
      ],
      "text/plain": [
       "    school                         image  \\\n",
       "0  가거도초등학교  saved_images/image_83196.jpg   \n",
       "1   가경초등학교  saved_images/image_40152.jpg   \n",
       "2  가거도초등학교  saved_images/image_83555.jpg   \n",
       "3  가거도초등학교  saved_images/image_93295.jpg   \n",
       "\n",
       "                                            tag_info  \n",
       "0  {'total_tag': 4, 'total_label_tag': {'낙엽': 1, ...  \n",
       "1            {'total_tag': 0, 'total_label_tag': {}}  \n",
       "2  {'total_tag': 5, 'total_label_tag': {'종이': 2, ...  \n",
       "3     {'total_tag': 1, 'total_label_tag': {'종이': 1}}  "
      ]
     },
     "execution_count": 2,
     "metadata": {},
     "output_type": "execute_result"
    }
   ],
   "source": [
    "import ast\n",
    "df['tag_info'] = df['tag_info'].apply(ast.literal_eval)\n",
    "df"
   ]
  },
  {
   "cell_type": "code",
   "execution_count": 3,
   "id": "930a4b4d",
   "metadata": {},
   "outputs": [
    {
     "data": {
      "text/plain": [
       "0    4\n",
       "1    0\n",
       "2    5\n",
       "3    1\n",
       "Name: total_tag, dtype: int64"
      ]
     },
     "execution_count": 3,
     "metadata": {},
     "output_type": "execute_result"
    }
   ],
   "source": [
    "df['total_tag'] = df['tag_info'].apply(lambda x: x.get('total_tag', 0))\n",
    "df['total_tag']"
   ]
  },
  {
   "cell_type": "code",
   "execution_count": null,
   "id": "6ca59fe7",
   "metadata": {},
   "outputs": [
    {
     "data": {
      "text/plain": [
       "0    {'낙엽': 1, '담배꽁초': 2, '종이': 1}\n",
       "1                               {}\n",
       "2             {'종이': 2, '담배꽁초': 3}\n",
       "3                        {'종이': 1}\n",
       "Name: total_label_tag, dtype: object"
      ]
     },
     "execution_count": 4,
     "metadata": {},
     "output_type": "execute_result"
    }
   ],
   "source": [
    "df['total_label_tag'] = df['tag_info'].apply(lambda x: x.get('total_label_tag', {}))\n",
    "df['total_label_tag']"
   ]
  },
  {
   "cell_type": "code",
   "execution_count": 5,
   "id": "3a31b883",
   "metadata": {},
   "outputs": [
    {
     "data": {
      "text/html": [
       "<div>\n",
       "<style scoped>\n",
       "    .dataframe tbody tr th:only-of-type {\n",
       "        vertical-align: middle;\n",
       "    }\n",
       "\n",
       "    .dataframe tbody tr th {\n",
       "        vertical-align: top;\n",
       "    }\n",
       "\n",
       "    .dataframe thead th {\n",
       "        text-align: right;\n",
       "    }\n",
       "</style>\n",
       "<table border=\"1\" class=\"dataframe\">\n",
       "  <thead>\n",
       "    <tr style=\"text-align: right;\">\n",
       "      <th></th>\n",
       "      <th>school</th>\n",
       "      <th>image</th>\n",
       "      <th>tag_info</th>\n",
       "      <th>total_tag</th>\n",
       "      <th>total_label_tag</th>\n",
       "      <th>담배꽁초</th>\n",
       "      <th>낙엽</th>\n",
       "      <th>종이</th>\n",
       "    </tr>\n",
       "  </thead>\n",
       "  <tbody>\n",
       "    <tr>\n",
       "      <th>0</th>\n",
       "      <td>가거도초등학교</td>\n",
       "      <td>saved_images/image_83196.jpg</td>\n",
       "      <td>{'total_tag': 4, 'total_label_tag': {'낙엽': 1, ...</td>\n",
       "      <td>4</td>\n",
       "      <td>{'낙엽': 1, '담배꽁초': 2, '종이': 1}</td>\n",
       "      <td>2</td>\n",
       "      <td>1</td>\n",
       "      <td>1</td>\n",
       "    </tr>\n",
       "    <tr>\n",
       "      <th>1</th>\n",
       "      <td>가경초등학교</td>\n",
       "      <td>saved_images/image_40152.jpg</td>\n",
       "      <td>{'total_tag': 0, 'total_label_tag': {}}</td>\n",
       "      <td>0</td>\n",
       "      <td>{}</td>\n",
       "      <td>0</td>\n",
       "      <td>0</td>\n",
       "      <td>0</td>\n",
       "    </tr>\n",
       "    <tr>\n",
       "      <th>2</th>\n",
       "      <td>가거도초등학교</td>\n",
       "      <td>saved_images/image_83555.jpg</td>\n",
       "      <td>{'total_tag': 5, 'total_label_tag': {'종이': 2, ...</td>\n",
       "      <td>5</td>\n",
       "      <td>{'종이': 2, '담배꽁초': 3}</td>\n",
       "      <td>3</td>\n",
       "      <td>0</td>\n",
       "      <td>2</td>\n",
       "    </tr>\n",
       "    <tr>\n",
       "      <th>3</th>\n",
       "      <td>가거도초등학교</td>\n",
       "      <td>saved_images/image_93295.jpg</td>\n",
       "      <td>{'total_tag': 1, 'total_label_tag': {'종이': 1}}</td>\n",
       "      <td>1</td>\n",
       "      <td>{'종이': 1}</td>\n",
       "      <td>0</td>\n",
       "      <td>0</td>\n",
       "      <td>1</td>\n",
       "    </tr>\n",
       "  </tbody>\n",
       "</table>\n",
       "</div>"
      ],
      "text/plain": [
       "    school                         image  \\\n",
       "0  가거도초등학교  saved_images/image_83196.jpg   \n",
       "1   가경초등학교  saved_images/image_40152.jpg   \n",
       "2  가거도초등학교  saved_images/image_83555.jpg   \n",
       "3  가거도초등학교  saved_images/image_93295.jpg   \n",
       "\n",
       "                                            tag_info  total_tag  \\\n",
       "0  {'total_tag': 4, 'total_label_tag': {'낙엽': 1, ...          4   \n",
       "1            {'total_tag': 0, 'total_label_tag': {}}          0   \n",
       "2  {'total_tag': 5, 'total_label_tag': {'종이': 2, ...          5   \n",
       "3     {'total_tag': 1, 'total_label_tag': {'종이': 1}}          1   \n",
       "\n",
       "                 total_label_tag  담배꽁초  낙엽  종이  \n",
       "0  {'낙엽': 1, '담배꽁초': 2, '종이': 1}     2   1   1  \n",
       "1                             {}     0   0   0  \n",
       "2           {'종이': 2, '담배꽁초': 3}     3   0   2  \n",
       "3                      {'종이': 1}     0   0   1  "
      ]
     },
     "execution_count": 5,
     "metadata": {},
     "output_type": "execute_result"
    }
   ],
   "source": [
    "# 모든 라벨 추출\n",
    "all_labels = set()\n",
    "for label_dict in df['total_label_tag']:\n",
    "    all_labels.update(label_dict.keys())\n",
    "\n",
    "# 각 라벨별 컬럼 생성\n",
    "for label in all_labels:\n",
    "    df[label] = df['total_label_tag'].apply(lambda x: x.get(label, 0))\n",
    "\n",
    "df.head()"
   ]
  },
  {
   "cell_type": "code",
   "execution_count": 6,
   "id": "d3ab08dc",
   "metadata": {},
   "outputs": [
    {
     "data": {
      "text/html": [
       "<div>\n",
       "<style scoped>\n",
       "    .dataframe tbody tr th:only-of-type {\n",
       "        vertical-align: middle;\n",
       "    }\n",
       "\n",
       "    .dataframe tbody tr th {\n",
       "        vertical-align: top;\n",
       "    }\n",
       "\n",
       "    .dataframe thead th {\n",
       "        text-align: right;\n",
       "    }\n",
       "</style>\n",
       "<table border=\"1\" class=\"dataframe\">\n",
       "  <thead>\n",
       "    <tr style=\"text-align: right;\">\n",
       "      <th></th>\n",
       "      <th>school</th>\n",
       "      <th>image</th>\n",
       "      <th>total_tag</th>\n",
       "      <th>담배꽁초</th>\n",
       "      <th>낙엽</th>\n",
       "      <th>종이</th>\n",
       "    </tr>\n",
       "  </thead>\n",
       "  <tbody>\n",
       "    <tr>\n",
       "      <th>0</th>\n",
       "      <td>가거도초등학교</td>\n",
       "      <td>saved_images/image_83196.jpg</td>\n",
       "      <td>4</td>\n",
       "      <td>2</td>\n",
       "      <td>1</td>\n",
       "      <td>1</td>\n",
       "    </tr>\n",
       "    <tr>\n",
       "      <th>1</th>\n",
       "      <td>가경초등학교</td>\n",
       "      <td>saved_images/image_40152.jpg</td>\n",
       "      <td>0</td>\n",
       "      <td>0</td>\n",
       "      <td>0</td>\n",
       "      <td>0</td>\n",
       "    </tr>\n",
       "    <tr>\n",
       "      <th>2</th>\n",
       "      <td>가거도초등학교</td>\n",
       "      <td>saved_images/image_83555.jpg</td>\n",
       "      <td>5</td>\n",
       "      <td>3</td>\n",
       "      <td>0</td>\n",
       "      <td>2</td>\n",
       "    </tr>\n",
       "    <tr>\n",
       "      <th>3</th>\n",
       "      <td>가거도초등학교</td>\n",
       "      <td>saved_images/image_93295.jpg</td>\n",
       "      <td>1</td>\n",
       "      <td>0</td>\n",
       "      <td>0</td>\n",
       "      <td>1</td>\n",
       "    </tr>\n",
       "  </tbody>\n",
       "</table>\n",
       "</div>"
      ],
      "text/plain": [
       "    school                         image  total_tag  담배꽁초  낙엽  종이\n",
       "0  가거도초등학교  saved_images/image_83196.jpg          4     2   1   1\n",
       "1   가경초등학교  saved_images/image_40152.jpg          0     0   0   0\n",
       "2  가거도초등학교  saved_images/image_83555.jpg          5     3   0   2\n",
       "3  가거도초등학교  saved_images/image_93295.jpg          1     0   0   1"
      ]
     },
     "execution_count": 6,
     "metadata": {},
     "output_type": "execute_result"
    }
   ],
   "source": [
    "df.drop(columns=['tag_info', 'total_label_tag'], inplace=True)\n",
    "df"
   ]
  },
  {
   "cell_type": "code",
   "execution_count": null,
   "id": "1a03b87d",
   "metadata": {},
   "outputs": [],
   "source": []
  }
 ],
 "metadata": {
  "kernelspec": {
   "display_name": "Python 3",
   "language": "python",
   "name": "python3"
  },
  "language_info": {
   "codemirror_mode": {
    "name": "ipython",
    "version": 3
   },
   "file_extension": ".py",
   "mimetype": "text/x-python",
   "name": "python",
   "nbconvert_exporter": "python",
   "pygments_lexer": "ipython3",
   "version": "3.11.9"
  }
 },
 "nbformat": 4,
 "nbformat_minor": 5
}
