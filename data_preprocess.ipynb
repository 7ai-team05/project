{
 "cells": [
  {
   "cell_type": "code",
   "execution_count": 2,
   "id": "c1472379",
   "metadata": {},
   "outputs": [
    {
     "data": {
      "text/html": [
       "<div>\n",
       "<style scoped>\n",
       "    .dataframe tbody tr th:only-of-type {\n",
       "        vertical-align: middle;\n",
       "    }\n",
       "\n",
       "    .dataframe tbody tr th {\n",
       "        vertical-align: top;\n",
       "    }\n",
       "\n",
       "    .dataframe thead th {\n",
       "        text-align: right;\n",
       "    }\n",
       "</style>\n",
       "<table border=\"1\" class=\"dataframe\">\n",
       "  <thead>\n",
       "    <tr style=\"text-align: right;\">\n",
       "      <th></th>\n",
       "      <th>school</th>\n",
       "      <th>image</th>\n",
       "      <th>tag_info</th>\n",
       "    </tr>\n",
       "  </thead>\n",
       "  <tbody>\n",
       "    <tr>\n",
       "      <th>0</th>\n",
       "      <td>가거도초등학교</td>\n",
       "      <td>saved_images/image_83196.jpg</td>\n",
       "      <td>{'total_tag': 4, 'total_label_tag': {'낙엽': 1, ...</td>\n",
       "    </tr>\n",
       "    <tr>\n",
       "      <th>1</th>\n",
       "      <td>가경초등학교</td>\n",
       "      <td>saved_images/image_40152.jpg</td>\n",
       "      <td>{'total_tag': 0, 'total_label_tag': {}}</td>\n",
       "    </tr>\n",
       "    <tr>\n",
       "      <th>2</th>\n",
       "      <td>가거도초등학교</td>\n",
       "      <td>saved_images/image_83555.jpg</td>\n",
       "      <td>{'total_tag': 5, 'total_label_tag': {'종이': 2, ...</td>\n",
       "    </tr>\n",
       "    <tr>\n",
       "      <th>3</th>\n",
       "      <td>가거도초등학교</td>\n",
       "      <td>saved_images/image_93295.jpg</td>\n",
       "      <td>{'total_tag': 1, 'total_label_tag': {'종이': 1}}</td>\n",
       "    </tr>\n",
       "  </tbody>\n",
       "</table>\n",
       "</div>"
      ],
      "text/plain": [
       "    school                         image  \\\n",
       "0  가거도초등학교  saved_images/image_83196.jpg   \n",
       "1   가경초등학교  saved_images/image_40152.jpg   \n",
       "2  가거도초등학교  saved_images/image_83555.jpg   \n",
       "3  가거도초등학교  saved_images/image_93295.jpg   \n",
       "\n",
       "                                            tag_info  \n",
       "0  {'total_tag': 4, 'total_label_tag': {'낙엽': 1, ...  \n",
       "1            {'total_tag': 0, 'total_label_tag': {}}  \n",
       "2  {'total_tag': 5, 'total_label_tag': {'종이': 2, ...  \n",
       "3     {'total_tag': 1, 'total_label_tag': {'종이': 1}}  "
      ]
     },
     "execution_count": 2,
     "metadata": {},
     "output_type": "execute_result"
    }
   ],
   "source": [
    "import pandas as pd\n",
    "df = pd.read_csv('school_attack1.csv')\n",
    "df"
   ]
  },
  {
   "cell_type": "code",
   "execution_count": 3,
   "id": "87c5e5f2",
   "metadata": {},
   "outputs": [
    {
     "data": {
      "text/html": [
       "<div>\n",
       "<style scoped>\n",
       "    .dataframe tbody tr th:only-of-type {\n",
       "        vertical-align: middle;\n",
       "    }\n",
       "\n",
       "    .dataframe tbody tr th {\n",
       "        vertical-align: top;\n",
       "    }\n",
       "\n",
       "    .dataframe thead th {\n",
       "        text-align: right;\n",
       "    }\n",
       "</style>\n",
       "<table border=\"1\" class=\"dataframe\">\n",
       "  <thead>\n",
       "    <tr style=\"text-align: right;\">\n",
       "      <th></th>\n",
       "      <th>school</th>\n",
       "      <th>image</th>\n",
       "      <th>tag_info</th>\n",
       "    </tr>\n",
       "  </thead>\n",
       "  <tbody>\n",
       "    <tr>\n",
       "      <th>0</th>\n",
       "      <td>가거도초등학교</td>\n",
       "      <td>saved_images/image_83196.jpg</td>\n",
       "      <td>{'total_tag': 4, 'total_label_tag': {'낙엽': 1, ...</td>\n",
       "    </tr>\n",
       "    <tr>\n",
       "      <th>1</th>\n",
       "      <td>가경초등학교</td>\n",
       "      <td>saved_images/image_40152.jpg</td>\n",
       "      <td>{'total_tag': 0, 'total_label_tag': {}}</td>\n",
       "    </tr>\n",
       "    <tr>\n",
       "      <th>2</th>\n",
       "      <td>가거도초등학교</td>\n",
       "      <td>saved_images/image_83555.jpg</td>\n",
       "      <td>{'total_tag': 5, 'total_label_tag': {'종이': 2, ...</td>\n",
       "    </tr>\n",
       "    <tr>\n",
       "      <th>3</th>\n",
       "      <td>가거도초등학교</td>\n",
       "      <td>saved_images/image_93295.jpg</td>\n",
       "      <td>{'total_tag': 1, 'total_label_tag': {'종이': 1}}</td>\n",
       "    </tr>\n",
       "  </tbody>\n",
       "</table>\n",
       "</div>"
      ],
      "text/plain": [
       "    school                         image  \\\n",
       "0  가거도초등학교  saved_images/image_83196.jpg   \n",
       "1   가경초등학교  saved_images/image_40152.jpg   \n",
       "2  가거도초등학교  saved_images/image_83555.jpg   \n",
       "3  가거도초등학교  saved_images/image_93295.jpg   \n",
       "\n",
       "                                            tag_info  \n",
       "0  {'total_tag': 4, 'total_label_tag': {'낙엽': 1, ...  \n",
       "1            {'total_tag': 0, 'total_label_tag': {}}  \n",
       "2  {'total_tag': 5, 'total_label_tag': {'종이': 2, ...  \n",
       "3     {'total_tag': 1, 'total_label_tag': {'종이': 1}}  "
      ]
     },
     "execution_count": 3,
     "metadata": {},
     "output_type": "execute_result"
    }
   ],
   "source": [
    "import ast\n",
    "df['tag_info'] = df['tag_info'].apply(ast.literal_eval)\n",
    "df"
   ]
  },
  {
   "cell_type": "code",
   "execution_count": 4,
   "id": "930a4b4d",
   "metadata": {},
   "outputs": [
    {
     "data": {
      "text/plain": [
       "0    4\n",
       "1    0\n",
       "2    5\n",
       "3    1\n",
       "Name: total_tag, dtype: int64"
      ]
     },
     "execution_count": 4,
     "metadata": {},
     "output_type": "execute_result"
    }
   ],
   "source": [
    "df['total_tag'] = df['tag_info'].apply(lambda x: x.get('total_tag', 0))\n",
    "df['total_tag']"
   ]
  },
  {
   "cell_type": "code",
   "execution_count": 5,
   "id": "6ca59fe7",
   "metadata": {},
   "outputs": [
    {
     "data": {
      "text/plain": [
       "0    {'낙엽': 1, '담배꽁초': 2, '종이': 1}\n",
       "1                               {}\n",
       "2             {'종이': 2, '담배꽁초': 3}\n",
       "3                        {'종이': 1}\n",
       "Name: total_label_tag, dtype: object"
      ]
     },
     "execution_count": 5,
     "metadata": {},
     "output_type": "execute_result"
    }
   ],
   "source": [
    "df['total_label_tag'] = df['tag_info'].apply(lambda x: x.get('total_label_tag', {}))\n",
    "df['total_label_tag']"
   ]
  },
  {
   "cell_type": "code",
   "execution_count": 6,
   "id": "3a31b883",
   "metadata": {},
   "outputs": [
    {
     "data": {
      "text/html": [
       "<div>\n",
       "<style scoped>\n",
       "    .dataframe tbody tr th:only-of-type {\n",
       "        vertical-align: middle;\n",
       "    }\n",
       "\n",
       "    .dataframe tbody tr th {\n",
       "        vertical-align: top;\n",
       "    }\n",
       "\n",
       "    .dataframe thead th {\n",
       "        text-align: right;\n",
       "    }\n",
       "</style>\n",
       "<table border=\"1\" class=\"dataframe\">\n",
       "  <thead>\n",
       "    <tr style=\"text-align: right;\">\n",
       "      <th></th>\n",
       "      <th>school</th>\n",
       "      <th>image</th>\n",
       "      <th>tag_info</th>\n",
       "      <th>total_tag</th>\n",
       "      <th>total_label_tag</th>\n",
       "      <th>낙엽</th>\n",
       "      <th>담배꽁초</th>\n",
       "      <th>종이</th>\n",
       "    </tr>\n",
       "  </thead>\n",
       "  <tbody>\n",
       "    <tr>\n",
       "      <th>0</th>\n",
       "      <td>가거도초등학교</td>\n",
       "      <td>saved_images/image_83196.jpg</td>\n",
       "      <td>{'total_tag': 4, 'total_label_tag': {'낙엽': 1, ...</td>\n",
       "      <td>4</td>\n",
       "      <td>{'낙엽': 1, '담배꽁초': 2, '종이': 1}</td>\n",
       "      <td>1</td>\n",
       "      <td>2</td>\n",
       "      <td>1</td>\n",
       "    </tr>\n",
       "    <tr>\n",
       "      <th>1</th>\n",
       "      <td>가경초등학교</td>\n",
       "      <td>saved_images/image_40152.jpg</td>\n",
       "      <td>{'total_tag': 0, 'total_label_tag': {}}</td>\n",
       "      <td>0</td>\n",
       "      <td>{}</td>\n",
       "      <td>0</td>\n",
       "      <td>0</td>\n",
       "      <td>0</td>\n",
       "    </tr>\n",
       "    <tr>\n",
       "      <th>2</th>\n",
       "      <td>가거도초등학교</td>\n",
       "      <td>saved_images/image_83555.jpg</td>\n",
       "      <td>{'total_tag': 5, 'total_label_tag': {'종이': 2, ...</td>\n",
       "      <td>5</td>\n",
       "      <td>{'종이': 2, '담배꽁초': 3}</td>\n",
       "      <td>0</td>\n",
       "      <td>3</td>\n",
       "      <td>2</td>\n",
       "    </tr>\n",
       "    <tr>\n",
       "      <th>3</th>\n",
       "      <td>가거도초등학교</td>\n",
       "      <td>saved_images/image_93295.jpg</td>\n",
       "      <td>{'total_tag': 1, 'total_label_tag': {'종이': 1}}</td>\n",
       "      <td>1</td>\n",
       "      <td>{'종이': 1}</td>\n",
       "      <td>0</td>\n",
       "      <td>0</td>\n",
       "      <td>1</td>\n",
       "    </tr>\n",
       "  </tbody>\n",
       "</table>\n",
       "</div>"
      ],
      "text/plain": [
       "    school                         image  \\\n",
       "0  가거도초등학교  saved_images/image_83196.jpg   \n",
       "1   가경초등학교  saved_images/image_40152.jpg   \n",
       "2  가거도초등학교  saved_images/image_83555.jpg   \n",
       "3  가거도초등학교  saved_images/image_93295.jpg   \n",
       "\n",
       "                                            tag_info  total_tag  \\\n",
       "0  {'total_tag': 4, 'total_label_tag': {'낙엽': 1, ...          4   \n",
       "1            {'total_tag': 0, 'total_label_tag': {}}          0   \n",
       "2  {'total_tag': 5, 'total_label_tag': {'종이': 2, ...          5   \n",
       "3     {'total_tag': 1, 'total_label_tag': {'종이': 1}}          1   \n",
       "\n",
       "                 total_label_tag  낙엽  담배꽁초  종이  \n",
       "0  {'낙엽': 1, '담배꽁초': 2, '종이': 1}   1     2   1  \n",
       "1                             {}   0     0   0  \n",
       "2           {'종이': 2, '담배꽁초': 3}   0     3   2  \n",
       "3                      {'종이': 1}   0     0   1  "
      ]
     },
     "execution_count": 6,
     "metadata": {},
     "output_type": "execute_result"
    }
   ],
   "source": [
    "# 모든 라벨 추출\n",
    "all_labels = set()\n",
    "for label_dict in df['total_label_tag']:\n",
    "    all_labels.update(label_dict.keys())\n",
    "\n",
    "# 각 라벨별 컬럼 생성\n",
    "for label in all_labels:\n",
    "    df[label] = df['total_label_tag'].apply(lambda x: x.get(label, 0))\n",
    "\n",
    "df.head()"
   ]
  },
  {
   "cell_type": "code",
   "execution_count": 7,
   "id": "d3ab08dc",
   "metadata": {},
   "outputs": [
    {
     "data": {
      "text/html": [
       "<div>\n",
       "<style scoped>\n",
       "    .dataframe tbody tr th:only-of-type {\n",
       "        vertical-align: middle;\n",
       "    }\n",
       "\n",
       "    .dataframe tbody tr th {\n",
       "        vertical-align: top;\n",
       "    }\n",
       "\n",
       "    .dataframe thead th {\n",
       "        text-align: right;\n",
       "    }\n",
       "</style>\n",
       "<table border=\"1\" class=\"dataframe\">\n",
       "  <thead>\n",
       "    <tr style=\"text-align: right;\">\n",
       "      <th></th>\n",
       "      <th>school</th>\n",
       "      <th>image</th>\n",
       "      <th>total_tag</th>\n",
       "      <th>낙엽</th>\n",
       "      <th>담배꽁초</th>\n",
       "      <th>종이</th>\n",
       "    </tr>\n",
       "  </thead>\n",
       "  <tbody>\n",
       "    <tr>\n",
       "      <th>0</th>\n",
       "      <td>가거도초등학교</td>\n",
       "      <td>saved_images/image_83196.jpg</td>\n",
       "      <td>4</td>\n",
       "      <td>1</td>\n",
       "      <td>2</td>\n",
       "      <td>1</td>\n",
       "    </tr>\n",
       "    <tr>\n",
       "      <th>1</th>\n",
       "      <td>가경초등학교</td>\n",
       "      <td>saved_images/image_40152.jpg</td>\n",
       "      <td>0</td>\n",
       "      <td>0</td>\n",
       "      <td>0</td>\n",
       "      <td>0</td>\n",
       "    </tr>\n",
       "    <tr>\n",
       "      <th>2</th>\n",
       "      <td>가거도초등학교</td>\n",
       "      <td>saved_images/image_83555.jpg</td>\n",
       "      <td>5</td>\n",
       "      <td>0</td>\n",
       "      <td>3</td>\n",
       "      <td>2</td>\n",
       "    </tr>\n",
       "    <tr>\n",
       "      <th>3</th>\n",
       "      <td>가거도초등학교</td>\n",
       "      <td>saved_images/image_93295.jpg</td>\n",
       "      <td>1</td>\n",
       "      <td>0</td>\n",
       "      <td>0</td>\n",
       "      <td>1</td>\n",
       "    </tr>\n",
       "  </tbody>\n",
       "</table>\n",
       "</div>"
      ],
      "text/plain": [
       "    school                         image  total_tag  낙엽  담배꽁초  종이\n",
       "0  가거도초등학교  saved_images/image_83196.jpg          4   1     2   1\n",
       "1   가경초등학교  saved_images/image_40152.jpg          0   0     0   0\n",
       "2  가거도초등학교  saved_images/image_83555.jpg          5   0     3   2\n",
       "3  가거도초등학교  saved_images/image_93295.jpg          1   0     0   1"
      ]
     },
     "execution_count": 7,
     "metadata": {},
     "output_type": "execute_result"
    }
   ],
   "source": [
    "df.drop(columns=['tag_info', 'total_label_tag'], inplace=True)\n",
    "df"
   ]
  },
  {
   "cell_type": "code",
   "execution_count": 8,
   "id": "1a03b87d",
   "metadata": {},
   "outputs": [
    {
     "data": {
      "text/html": [
       "<div>\n",
       "<style scoped>\n",
       "    .dataframe tbody tr th:only-of-type {\n",
       "        vertical-align: middle;\n",
       "    }\n",
       "\n",
       "    .dataframe tbody tr th {\n",
       "        vertical-align: top;\n",
       "    }\n",
       "\n",
       "    .dataframe thead th {\n",
       "        text-align: right;\n",
       "    }\n",
       "</style>\n",
       "<table border=\"1\" class=\"dataframe\">\n",
       "  <thead>\n",
       "    <tr style=\"text-align: right;\">\n",
       "      <th></th>\n",
       "      <th>school</th>\n",
       "      <th>살린 배수구 개수</th>\n",
       "    </tr>\n",
       "  </thead>\n",
       "  <tbody>\n",
       "    <tr>\n",
       "      <th>0</th>\n",
       "      <td>가거도초등학교</td>\n",
       "      <td>3</td>\n",
       "    </tr>\n",
       "    <tr>\n",
       "      <th>1</th>\n",
       "      <td>가경초등학교</td>\n",
       "      <td>1</td>\n",
       "    </tr>\n",
       "  </tbody>\n",
       "</table>\n",
       "</div>"
      ],
      "text/plain": [
       "    school  살린 배수구 개수\n",
       "0  가거도초등학교          3\n",
       "1   가경초등학교          1"
      ]
     },
     "execution_count": 8,
     "metadata": {},
     "output_type": "execute_result"
    }
   ],
   "source": [
    "drain_counts = df.groupby('school')['image'].count().reset_index(name='살린 배수구 개수')\n",
    "drain_counts"
   ]
  },
  {
   "cell_type": "code",
   "execution_count": 9,
   "id": "1c63ba2a",
   "metadata": {},
   "outputs": [
    {
     "data": {
      "text/html": [
       "<div>\n",
       "<style scoped>\n",
       "    .dataframe tbody tr th:only-of-type {\n",
       "        vertical-align: middle;\n",
       "    }\n",
       "\n",
       "    .dataframe tbody tr th {\n",
       "        vertical-align: top;\n",
       "    }\n",
       "\n",
       "    .dataframe thead th {\n",
       "        text-align: right;\n",
       "    }\n",
       "</style>\n",
       "<table border=\"1\" class=\"dataframe\">\n",
       "  <thead>\n",
       "    <tr style=\"text-align: right;\">\n",
       "      <th></th>\n",
       "      <th>school</th>\n",
       "      <th>살린 배수구 개수</th>\n",
       "      <th>price</th>\n",
       "    </tr>\n",
       "  </thead>\n",
       "  <tbody>\n",
       "    <tr>\n",
       "      <th>0</th>\n",
       "      <td>가거도초등학교</td>\n",
       "      <td>3</td>\n",
       "      <td>30000</td>\n",
       "    </tr>\n",
       "    <tr>\n",
       "      <th>1</th>\n",
       "      <td>가경초등학교</td>\n",
       "      <td>1</td>\n",
       "      <td>10000</td>\n",
       "    </tr>\n",
       "  </tbody>\n",
       "</table>\n",
       "</div>"
      ],
      "text/plain": [
       "    school  살린 배수구 개수  price\n",
       "0  가거도초등학교          3  30000\n",
       "1   가경초등학교          1  10000"
      ]
     },
     "execution_count": 9,
     "metadata": {},
     "output_type": "execute_result"
    }
   ],
   "source": [
    "price = 10000\n",
    "drain_counts['price'] = drain_counts['살린 배수구 개수'] * price\n",
    "drain_counts"
   ]
  },
  {
   "cell_type": "code",
   "execution_count": 10,
   "id": "cfe01bd0",
   "metadata": {},
   "outputs": [
    {
     "data": {
      "text/html": [
       "<div>\n",
       "<style scoped>\n",
       "    .dataframe tbody tr th:only-of-type {\n",
       "        vertical-align: middle;\n",
       "    }\n",
       "\n",
       "    .dataframe tbody tr th {\n",
       "        vertical-align: top;\n",
       "    }\n",
       "\n",
       "    .dataframe thead th {\n",
       "        text-align: right;\n",
       "    }\n",
       "</style>\n",
       "<table border=\"1\" class=\"dataframe\">\n",
       "  <thead>\n",
       "    <tr style=\"text-align: right;\">\n",
       "      <th></th>\n",
       "      <th>school</th>\n",
       "      <th>살린 배수구 개수</th>\n",
       "      <th>price</th>\n",
       "      <th>요아정</th>\n",
       "      <th>마라탕</th>\n",
       "      <th>아이스크림</th>\n",
       "    </tr>\n",
       "  </thead>\n",
       "  <tbody>\n",
       "    <tr>\n",
       "      <th>0</th>\n",
       "      <td>가거도초등학교</td>\n",
       "      <td>3</td>\n",
       "      <td>30000</td>\n",
       "      <td>6</td>\n",
       "      <td>2</td>\n",
       "      <td>20</td>\n",
       "    </tr>\n",
       "    <tr>\n",
       "      <th>1</th>\n",
       "      <td>가경초등학교</td>\n",
       "      <td>1</td>\n",
       "      <td>10000</td>\n",
       "      <td>2</td>\n",
       "      <td>0</td>\n",
       "      <td>6</td>\n",
       "    </tr>\n",
       "  </tbody>\n",
       "</table>\n",
       "</div>"
      ],
      "text/plain": [
       "    school  살린 배수구 개수  price  요아정  마라탕  아이스크림\n",
       "0  가거도초등학교          3  30000    6    2     20\n",
       "1   가경초등학교          1  10000    2    0      6"
      ]
     },
     "execution_count": 10,
     "metadata": {},
     "output_type": "execute_result"
    }
   ],
   "source": [
    "item_prices = {\n",
    "    '요아정': 4500,\n",
    "    '마라탕':13000,\n",
    "    '아이스크림':1500\n",
    "}\n",
    "\n",
    "for items, price in item_prices.items():\n",
    "    drain_counts[items] = (drain_counts['price']/price).astype(int)\n",
    "\n",
    "drain_counts"
   ]
  },
  {
   "cell_type": "code",
   "execution_count": 11,
   "id": "764e044e",
   "metadata": {},
   "outputs": [
    {
     "data": {
      "text/html": [
       "<div>\n",
       "<style scoped>\n",
       "    .dataframe tbody tr th:only-of-type {\n",
       "        vertical-align: middle;\n",
       "    }\n",
       "\n",
       "    .dataframe tbody tr th {\n",
       "        vertical-align: top;\n",
       "    }\n",
       "\n",
       "    .dataframe thead th {\n",
       "        text-align: right;\n",
       "    }\n",
       "</style>\n",
       "<table border=\"1\" class=\"dataframe\">\n",
       "  <thead>\n",
       "    <tr style=\"text-align: right;\">\n",
       "      <th></th>\n",
       "      <th>school</th>\n",
       "      <th>살린 배수구 개수</th>\n",
       "      <th>price</th>\n",
       "      <th>요아정</th>\n",
       "      <th>마라탕</th>\n",
       "      <th>아이스크림</th>\n",
       "      <th>총 살린 배수구 개수</th>\n",
       "    </tr>\n",
       "  </thead>\n",
       "  <tbody>\n",
       "    <tr>\n",
       "      <th>0</th>\n",
       "      <td>가거도초등학교</td>\n",
       "      <td>3</td>\n",
       "      <td>30000</td>\n",
       "      <td>6</td>\n",
       "      <td>2</td>\n",
       "      <td>20</td>\n",
       "      <td>2</td>\n",
       "    </tr>\n",
       "    <tr>\n",
       "      <th>1</th>\n",
       "      <td>가경초등학교</td>\n",
       "      <td>1</td>\n",
       "      <td>10000</td>\n",
       "      <td>2</td>\n",
       "      <td>0</td>\n",
       "      <td>6</td>\n",
       "      <td>2</td>\n",
       "    </tr>\n",
       "  </tbody>\n",
       "</table>\n",
       "</div>"
      ],
      "text/plain": [
       "    school  살린 배수구 개수  price  요아정  마라탕  아이스크림  총 살린 배수구 개수\n",
       "0  가거도초등학교          3  30000    6    2     20            2\n",
       "1   가경초등학교          1  10000    2    0      6            2"
      ]
     },
     "execution_count": 11,
     "metadata": {},
     "output_type": "execute_result"
    }
   ],
   "source": [
    "drain_counts['총 살린 배수구 개수'] = drain_counts['살린 배수구 개수'].count()\n",
    "drain_counts"
   ]
  },
  {
   "cell_type": "code",
   "execution_count": 12,
   "id": "3560206a",
   "metadata": {},
   "outputs": [
    {
     "data": {
      "text/html": [
       "<div>\n",
       "<style scoped>\n",
       "    .dataframe tbody tr th:only-of-type {\n",
       "        vertical-align: middle;\n",
       "    }\n",
       "\n",
       "    .dataframe tbody tr th {\n",
       "        vertical-align: top;\n",
       "    }\n",
       "\n",
       "    .dataframe thead th {\n",
       "        text-align: right;\n",
       "    }\n",
       "</style>\n",
       "<table border=\"1\" class=\"dataframe\">\n",
       "  <thead>\n",
       "    <tr style=\"text-align: right;\">\n",
       "      <th></th>\n",
       "      <th>school</th>\n",
       "      <th>살린 배수구 개수</th>\n",
       "      <th>price</th>\n",
       "      <th>요아정</th>\n",
       "      <th>마라탕</th>\n",
       "      <th>아이스크림</th>\n",
       "    </tr>\n",
       "  </thead>\n",
       "  <tbody>\n",
       "    <tr>\n",
       "      <th>0</th>\n",
       "      <td>가거도초등학교</td>\n",
       "      <td>3</td>\n",
       "      <td>30000</td>\n",
       "      <td>6</td>\n",
       "      <td>2</td>\n",
       "      <td>20</td>\n",
       "    </tr>\n",
       "    <tr>\n",
       "      <th>1</th>\n",
       "      <td>가경초등학교</td>\n",
       "      <td>1</td>\n",
       "      <td>10000</td>\n",
       "      <td>2</td>\n",
       "      <td>0</td>\n",
       "      <td>6</td>\n",
       "    </tr>\n",
       "  </tbody>\n",
       "</table>\n",
       "</div>"
      ],
      "text/plain": [
       "    school  살린 배수구 개수  price  요아정  마라탕  아이스크림\n",
       "0  가거도초등학교          3  30000    6    2     20\n",
       "1   가경초등학교          1  10000    2    0      6"
      ]
     },
     "execution_count": 12,
     "metadata": {},
     "output_type": "execute_result"
    }
   ],
   "source": [
    "drain_counts = drain_counts.drop(columns='총 살린 배수구 개수')\n",
    "drain_counts"
   ]
  },
  {
   "cell_type": "code",
   "execution_count": 13,
   "id": "a7ccc993",
   "metadata": {},
   "outputs": [],
   "source": [
    "total = pd.DataFrame({\n",
    "    'school':['총 합'],\n",
    "    '살린 배수구 개수': [drain_counts['살린 배수구 개수'].sum()],\n",
    "    'price': [drain_counts['price'].sum()]\n",
    "})"
   ]
  },
  {
   "cell_type": "code",
   "execution_count": 15,
   "id": "126160d8",
   "metadata": {},
   "outputs": [
    {
     "name": "stdout",
     "output_type": "stream",
     "text": [
      "  school  살린 배수구 개수  price  요아정  마라탕  아이스크림\n",
      "0    총 합          4  40000    8    3     26\n"
     ]
    }
   ],
   "source": [
    "for item, price in item_prices.items():\n",
    "    total[item] = [int(total['price'][0]/price)]\n",
    "\n",
    "print(total)"
   ]
  },
  {
   "cell_type": "code",
   "execution_count": 16,
   "id": "f76a6a12",
   "metadata": {},
   "outputs": [
    {
     "data": {
      "text/html": [
       "<div>\n",
       "<style scoped>\n",
       "    .dataframe tbody tr th:only-of-type {\n",
       "        vertical-align: middle;\n",
       "    }\n",
       "\n",
       "    .dataframe tbody tr th {\n",
       "        vertical-align: top;\n",
       "    }\n",
       "\n",
       "    .dataframe thead th {\n",
       "        text-align: right;\n",
       "    }\n",
       "</style>\n",
       "<table border=\"1\" class=\"dataframe\">\n",
       "  <thead>\n",
       "    <tr style=\"text-align: right;\">\n",
       "      <th></th>\n",
       "      <th>school</th>\n",
       "      <th>살린 배수구 개수</th>\n",
       "      <th>price</th>\n",
       "      <th>요아정</th>\n",
       "      <th>마라탕</th>\n",
       "      <th>아이스크림</th>\n",
       "    </tr>\n",
       "  </thead>\n",
       "  <tbody>\n",
       "    <tr>\n",
       "      <th>0</th>\n",
       "      <td>총 합</td>\n",
       "      <td>4</td>\n",
       "      <td>40000</td>\n",
       "      <td>8</td>\n",
       "      <td>3</td>\n",
       "      <td>26</td>\n",
       "    </tr>\n",
       "  </tbody>\n",
       "</table>\n",
       "</div>"
      ],
      "text/plain": [
       "  school  살린 배수구 개수  price  요아정  마라탕  아이스크림\n",
       "0    총 합          4  40000    8    3     26"
      ]
     },
     "execution_count": 16,
     "metadata": {},
     "output_type": "execute_result"
    }
   ],
   "source": [
    "total"
   ]
  }
 ],
 "metadata": {
  "kernelspec": {
   "display_name": "Python 3",
   "language": "python",
   "name": "python3"
  },
  "language_info": {
   "codemirror_mode": {
    "name": "ipython",
    "version": 3
   },
   "file_extension": ".py",
   "mimetype": "text/x-python",
   "name": "python",
   "nbconvert_exporter": "python",
   "pygments_lexer": "ipython3",
   "version": "3.11.9"
  }
 },
 "nbformat": 4,
 "nbformat_minor": 5
}
