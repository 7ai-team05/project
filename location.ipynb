{
 "cells": [
  {
   "cell_type": "code",
   "execution_count": 3,
   "id": "ac0e4f96",
   "metadata": {},
   "outputs": [
    {
     "name": "stdout",
     "output_type": "stream",
     "text": [
      "위도: 37.373469, 경도: 126.957031\n"
     ]
    }
   ],
   "source": [
    "from PIL import Image\n",
    "from PIL.ExifTags import TAGS, GPSTAGS\n",
    "\n",
    "def get_decimal_from_dms(dms, ref):\n",
    "    \"\"\"\n",
    "    DMS(도/분/초) 값을 담고 있는 IFDRational 객체들의 튜플과\n",
    "    방향 문자열('N','S','E','W')을 받아 십진수 위도/경도로 변환합니다.\n",
    "    - dms: (IFDRational, IFDRational, IFDRational)\n",
    "    - ref: 'N' 또는 'S' (위도), 'E' 또는 'W' (경도)\n",
    "    \"\"\"\n",
    "    # IFDRational 객체를 float으로 변환하면 분수값이 실수로 들어옵니다.\n",
    "    deg = float(dms[0])\n",
    "    minu = float(dms[1])\n",
    "    sec = float(dms[2])\n",
    "\n",
    "    dec = deg + (minu / 60.0) + (sec / 3600.0)\n",
    "    if ref in ('S', 'W'):\n",
    "        dec = -dec\n",
    "    return dec\n",
    "\n",
    "def extract_gps(img_path):\n",
    "    img = Image.open(img_path)\n",
    "    exif = img._getexif()\n",
    "    if not exif:\n",
    "        return None\n",
    "\n",
    "    # EXIF 태그 ID를 이름으로 매핑\n",
    "    gps_info = {}\n",
    "    for tag_id, value in exif.items():\n",
    "        tag = TAGS.get(tag_id)\n",
    "        if tag == 'GPSInfo':\n",
    "            for key, val in value.items():\n",
    "                subtag = GPSTAGS.get(key)\n",
    "                gps_info[subtag] = val\n",
    "\n",
    "    # 필수 GPS 태그가 모두 있는지 확인\n",
    "    required = ('GPSLatitudeRef', 'GPSLatitude', 'GPSLongitudeRef', 'GPSLongitude')\n",
    "    if not all(k in gps_info for k in required):\n",
    "        return None\n",
    "\n",
    "    lat = get_decimal_from_dms(gps_info['GPSLatitude'], gps_info['GPSLatitudeRef'])\n",
    "    lon = get_decimal_from_dms(gps_info['GPSLongitude'], gps_info['GPSLongitudeRef'])\n",
    "    return (lat, lon)\n",
    "\n",
    "if __name__ == \"__main__\":\n",
    "    path = \"C:/Users/USER/Desktop/img_data/d_38.jpg\"  # 실제 경로로 바꿔주세요\n",
    "    coords = extract_gps(path)\n",
    "    if coords:\n",
    "        print(f\"위도: {coords[0]:.6f}, 경도: {coords[1]:.6f}\")\n",
    "    else:\n",
    "        print(\"GPS EXIF 정보가 없습니다.\")\n"
   ]
  }
 ],
 "metadata": {
  "kernelspec": {
   "display_name": "Python 3",
   "language": "python",
   "name": "python3"
  },
  "language_info": {
   "codemirror_mode": {
    "name": "ipython",
    "version": 3
   },
   "file_extension": ".py",
   "mimetype": "text/x-python",
   "name": "python",
   "nbconvert_exporter": "python",
   "pygments_lexer": "ipython3",
   "version": "3.11.9"
  }
 },
 "nbformat": 4,
 "nbformat_minor": 5
}
