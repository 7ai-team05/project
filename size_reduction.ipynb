{
 "cells": [
  {
   "cell_type": "code",
   "execution_count": 7,
   "id": "5caafd35",
   "metadata": {},
   "outputs": [],
   "source": [
    "import os\n",
    "from PIL import Image\n",
    "import time\n",
    "\n",
    "def compress_images_recursive(root_folder, max_size_mb=4):\n",
    "    max_size = max_size_mb * 1024 * 1024  # 바이트로 변환\n",
    "\n",
    "    for dirpath, _, filenames in os.walk(root_folder):\n",
    "        for filename in filenames:\n",
    "            if not filename.lower().endswith(\".jpg\"):\n",
    "                continue\n",
    "\n",
    "            filepath = os.path.join(dirpath, filename)\n",
    "            filesize = os.path.getsize(filepath)\n",
    "\n",
    "            if filesize <= max_size:\n",
    "                print(f\"✅ {filename}: {filesize/1024:.1f}KB → 유지\")\n",
    "                continue\n",
    "\n",
    "            try:\n",
    "                img = Image.open(filepath).convert(\"RGB\")  # ✅ RGB 강제 변환\n",
    "                quality = 95\n",
    "                step = 5\n",
    "                compressed = False\n",
    "\n",
    "                for _ in range(10):\n",
    "                    temp_path = filepath + \".temp.jpg\"\n",
    "                    img.save(temp_path, format=\"JPEG\", quality=quality, optimize=True)\n",
    "\n",
    "                    time.sleep(0.1)  # 파일 저장 안정화\n",
    "                    temp_size = os.path.getsize(temp_path)\n",
    "\n",
    "                    if temp_size <= max_size:\n",
    "                        img.close()\n",
    "                        os.remove(filepath)  # 원본 삭제\n",
    "                        os.rename(temp_path, filepath)  # ✅ 안전하게 교체\n",
    "                        print(f\"⚠️ {filename}: 압축됨 → {temp_size/1024:.1f}KB (quality={quality})\")\n",
    "                        compressed = True\n",
    "                        break\n",
    "\n",
    "                    quality -= step\n",
    "\n",
    "                if not compressed:\n",
    "                    img.close()\n",
    "                    if os.path.exists(temp_path):\n",
    "                        os.remove(temp_path)\n",
    "                    print(f\"❌ {filename}: 압축 실패 (최저 quality={quality + step})\")\n",
    "\n",
    "            except Exception as e:\n",
    "                print(f\"❌ {filename}: 처리 중 오류 발생 → {e}\")\n",
    "\n"
   ]
  },
  {
   "cell_type": "code",
   "execution_count": 6,
   "id": "94d29c28",
   "metadata": {},
   "outputs": [
    {
     "name": "stdout",
     "output_type": "stream",
     "text": [
      "✅ 20180310_140618.jpg: 175.3KB → 유지\n",
      "✅ 30030814-old-steel-drainage-of-the-asphalt-road.jpg: 294.3KB → 유지\n",
      "✅ 374045.jpg: 69.9KB → 유지\n",
      "✅ 65877618-거리-낭비.jpg: 85.7KB → 유지\n",
      "✅ 950b41f6d73e7a630c0ed9c419bc8c786e0258c7_.jpg: 82.6KB → 유지\n",
      "✅ dgcxxx드.jpg: 114.6KB → 유지\n",
      "✅ Drenaje-pluvial-1024-x-1024-px.jpg: 283.4KB → 유지\n",
      "✅ dsfasedf.jpg: 106.2KB → 유지\n",
      "✅ f(2).jpg: 12.0KB → 유지\n",
      "✅ fdgsdhfhf드.jpg: 94.0KB → 유지\n",
      "✅ fsdfaec드.jpg: 117.0KB → 유지\n",
      "✅ iaaaaaaamages.jpg: 6.3KB → 유지\n",
      "✅ imagsdfefesfes.jpg: 16.5KB → 유지\n",
      "✅ imsdfsefeages.jpg: 13.2KB → 유지\n",
      "✅ jjgjg.jpg: 103.8KB → 유지\n",
      "✅ seocho88_223126712976_4.jpg: 157.0KB → 유지\n",
      "✅ small_pn_20100301192253.jpg: 175.5KB → 유지\n",
      "✅ sssssss.jpg: 13.4KB → 유지\n",
      "✅ steel-grating-trench-drain-cover10040160148.jpg: 146.3KB → 유지\n",
      "✅ water-drain-ditch-on-road-600w-490555309.jpg: 88.7KB → 유지\n"
     ]
    }
   ],
   "source": [
    "compress_images_recursive(\"3rd_y_test_file\")    # 바꾸고 싶은 폴더주소 입력"
   ]
  }
 ],
 "metadata": {
  "kernelspec": {
   "display_name": "venv",
   "language": "python",
   "name": "python3"
  },
  "language_info": {
   "codemirror_mode": {
    "name": "ipython",
    "version": 3
   },
   "file_extension": ".py",
   "mimetype": "text/x-python",
   "name": "python",
   "nbconvert_exporter": "python",
   "pygments_lexer": "ipython3",
   "version": "3.11.9"
  }
 },
 "nbformat": 4,
 "nbformat_minor": 5
}
