{
 "cells": [
  {
   "cell_type": "code",
   "execution_count": 2,
   "id": "b198a634",
   "metadata": {},
   "outputs": [
    {
     "name": "stdout",
     "output_type": "stream",
     "text": [
      "총 62개의 이미지 중 43개는 'train', 19개는 'test' 폴더에 복사 완료되었습니다.\n"
     ]
    }
   ],
   "source": [
    "import os\n",
    "import random\n",
    "import shutil\n",
    "\n",
    "def split_dataset(image_folder_path, output_base_path, train_ratio=0.7):\n",
    "    # 이미지 목록 가져오기\n",
    "    all_images = [f for f in os.listdir(image_folder_path) if f.lower().endswith(('.png', '.jpg', '.jpeg', '.bmp'))]\n",
    "    \n",
    "    if not all_images:\n",
    "        print(\"이미지가 존재하지 않습니다.\")\n",
    "        return\n",
    "\n",
    "    # 랜덤 섞기\n",
    "    random.shuffle(all_images)\n",
    "\n",
    "    # 개수 계산\n",
    "    total = len(all_images)\n",
    "    train_count = int(total * train_ratio)\n",
    "\n",
    "    # 분할\n",
    "    train_images = all_images[:train_count]\n",
    "    test_images = all_images[train_count:]\n",
    "\n",
    "    # 출력 폴더 경로 생성\n",
    "    train_dir = os.path.join(output_base_path, \"train\")\n",
    "    test_dir = os.path.join(output_base_path, \"test\")\n",
    "    os.makedirs(train_dir, exist_ok=True)\n",
    "    os.makedirs(test_dir, exist_ok=True)\n",
    "\n",
    "    # 이미지 복사\n",
    "    for img in train_images:\n",
    "        src = os.path.join(image_folder_path, img)\n",
    "        dst = os.path.join(train_dir, img)\n",
    "        shutil.copy(src, dst)\n",
    "\n",
    "    for img in test_images:\n",
    "        src = os.path.join(image_folder_path, img)\n",
    "        dst = os.path.join(test_dir, img)\n",
    "        shutil.copy(src, dst)\n",
    "\n",
    "    print(f\"총 {total}개의 이미지 중 {len(train_images)}개는 'train', {len(test_images)}개는 'test' 폴더에 복사 완료되었습니다.\")\n",
    "\n",
    "if __name__ == \"__main__\":\n",
    "    # 여기에 이미지 폴더 경로를 넣어주세요\n",
    "    image_folder = \"C:/Users/USER/Desktop/iteration1/heavy_62\"  # 예시 경로입니다\n",
    "    output_base_path = \"C:/Users/USER/Desktop/iteration1/split_data_heavy\"\n",
    "    split_dataset(image_folder, output_base_path)\n"
   ]
  }
 ],
 "metadata": {
  "kernelspec": {
   "display_name": "Python 3",
   "language": "python",
   "name": "python3"
  },
  "language_info": {
   "codemirror_mode": {
    "name": "ipython",
    "version": 3
   },
   "file_extension": ".py",
   "mimetype": "text/x-python",
   "name": "python",
   "nbconvert_exporter": "python",
   "pygments_lexer": "ipython3",
   "version": "3.11.9"
  }
 },
 "nbformat": 4,
 "nbformat_minor": 5
}
