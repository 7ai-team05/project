{
 "cells": [
  {
   "cell_type": "code",
   "execution_count": null,
   "id": "aee11f46",
   "metadata": {},
   "outputs": [],
   "source": [
    "import os\n",
    "import requests\n",
    "\n",
    "# === [Azure Custom Vision 설정] ===\n",
    "prediction_key = \"BBvYKDdr5RDpSMjG34Z2XXw3hLxzlAQkktCPXwHTLleSagQPHGg0JQQJ99BEACYeBjFXJ3w3AAAIACOGH9bC\"\n",
    "prediction_url = \"https://7aiteam05cv-prediction.cognitiveservices.azure.com/customvision/v3.0/Prediction/4771ac4d-bd97-4521-af8e-861c385eca53/classify/iterations/Iteration5/image\"\n",
    "\n",
    "# === [예측할 이미지 폴더 경로] ===\n",
    "image_folder = \"iteration_5_test\"  # 예: \"C:/Users/USER/Desktop/images\"\n",
    "\n",
    "headers = {\n",
    "    \"Prediction-Key\": prediction_key,\n",
    "    \"Content-Type\": \"application/octet-stream\"\n",
    "}\n",
    "\n",
    "# === [이미지 반복 예측] ===\n",
    "for filename in sorted(os.listdir(image_folder)):\n",
    "    if not filename.lower().endswith(\".jpg\"):\n",
    "        continue\n",
    "\n",
    "    filepath = os.path.join(image_folder, filename)\n",
    "\n",
    "    with open(filepath, \"rb\") as image_file:\n",
    "        response = requests.post(prediction_url, headers=headers, data=image_file.read())\n",
    "\n",
    "    if response.status_code == 200:\n",
    "        predictions = response.json()[\"predictions\"]\n",
    "        top_pred = max(predictions, key=lambda x: x[\"probability\"])\n",
    "        print(f\"📂 {filename} → 🧠 {top_pred['tagName']} ({top_pred['probability'] * 100:.1f}%)\")\n",
    "    else:\n",
    "        print(f\"❌ {filename} 예측 실패: {response.status_code}\")\n",
    "        print(response.json())\n"
   ]
  },
  {
   "cell_type": "code",
   "execution_count": null,
   "id": "b3ac095c",
   "metadata": {},
   "outputs": [],
   "source": [
    "import os\n",
    "import requests\n",
    "\n",
    "# === [Azure Custom Vision 설정] ===\n",
    "prediction_key = \"BBvYKDdr5RDpSMjG34Z2XXw3hLxzlAQkktCPXwHTLleSagQPHGg0JQQJ99BEACYeBjFXJ3w3AAAIACOGH9bC\"\n",
    "prediction_url = \"https://7aiteam05cv-prediction.cognitiveservices.azure.com/customvision/v3.0/Prediction/e81e8daf-2a54-4f41-9c8f-581d45e49ee9/detect/iterations/Iteration1/image\"\n",
    "\n",
    "# === [예측할 이미지 폴더 경로] ===\n",
    "image_folder = \"no-ciga\"  # 예: \"C:/Users/USER/Desktop/images\"\n",
    "\n",
    "headers = {\n",
    "    \"Prediction-Key\": prediction_key,\n",
    "    \"Content-Type\": \"application/octet-stream\"\n",
    "}\n",
    "\n",
    "# === [이미지 반복 예측] ===\n",
    "for filename in sorted(os.listdir(image_folder)):\n",
    "    if not filename.lower().endswith(\".jpg\"):\n",
    "        continue\n",
    "\n",
    "    filepath = os.path.join(image_folder, filename)\n",
    "\n",
    "    with open(filepath, \"rb\") as image_file:\n",
    "        response = requests.post(prediction_url, headers=headers, data=image_file.read())\n",
    "\n",
    "    if response.status_code == 200:\n",
    "        predictions = response.json()[\"predictions\"]\n",
    "        top_pred = max(predictions, key=lambda x: x[\"probability\"])\n",
    "        print(f\"📂 {filename} → 🧠 {top_pred['tagName']} ({top_pred['probability'] * 100:.1f}%)\")\n",
    "    else:\n",
    "        print(f\"❌ {filename} 예측 실패: {response.status_code}\")\n",
    "        print(response.json())\n"
   ]
  }
 ],
 "metadata": {
  "kernelspec": {
   "display_name": "venv",
   "language": "python",
   "name": "python3"
  },
  "language_info": {
   "codemirror_mode": {
    "name": "ipython",
    "version": 3
   },
   "file_extension": ".py",
   "mimetype": "text/x-python",
   "name": "python",
   "nbconvert_exporter": "python",
   "pygments_lexer": "ipython3",
   "version": "3.11.9"
  }
 },
 "nbformat": 4,
 "nbformat_minor": 5
}
