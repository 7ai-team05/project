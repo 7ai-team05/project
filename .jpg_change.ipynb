{
 "cells": [
  {
   "cell_type": "code",
   "execution_count": 3,
   "id": "f53f001f",
   "metadata": {},
   "outputs": [
    {
     "name": "stdout",
     "output_type": "stream",
     "text": [
      "✅ Renamed: 3df993938ec00a4fa2b5fc545e4d4a7b0975537f.71.9.9.3.jpeg → 3df993938ec00a4fa2b5fc545e4d4a7b0975537f.71.9.9.3.jpg\n",
      "✅ Renamed: imgdac05e8dzik0zj.jpeg → imgdac05e8dzik0zj.jpg\n"
     ]
    }
   ],
   "source": [
    "import os\n",
    "\n",
    "folder_path = \"0613ciga_test2\"\n",
    "\n",
    "for filename in os.listdir(folder_path):\n",
    "    name, ext = os.path.splitext(filename)\n",
    "\n",
    "    # jpg/jpg 변환 대상 판별 (예: .JPG, .jpeg, .Jpg 등)\n",
    "    if ext.lower() == '.jpg' and ext != '.jpg' or ext.lower() == '.jpeg':\n",
    "        src = os.path.join(folder_path, filename)\n",
    "\n",
    "        # 1단계: 임시 이름으로 바꾸기 (ex: clean_10.JPG → clean_10_temp.jpg)\n",
    "        temp_filename = name + \"_temp.jpg\"\n",
    "        temp_path = os.path.join(folder_path, temp_filename)\n",
    "        os.rename(src, temp_path)\n",
    "\n",
    "        # 2단계: 최종 이름으로 바꾸기 (ex: clean_10_temp.jpg → clean_10.jpg)\n",
    "        final_filename = name + \".jpg\"\n",
    "        final_path = os.path.join(folder_path, final_filename)\n",
    "\n",
    "        # 이미 있으면 덮어쓰기 위해 삭제\n",
    "        if os.path.exists(final_path):\n",
    "            os.remove(final_path)\n",
    "\n",
    "        os.rename(temp_path, final_path)\n",
    "        print(f\"✅ Renamed: {filename} → {final_filename}\")\n"
   ]
  },
  {
   "cell_type": "code",
   "execution_count": 4,
   "id": "cadacbfb",
   "metadata": {},
   "outputs": [],
   "source": [
    "import os\n",
    "from PIL import Image\n",
    "\n",
    "folder_path = \"0613ciga_test2\"\n",
    "\n",
    "for filename in os.listdir(folder_path):\n",
    "    name, ext = os.path.splitext(filename)\n",
    "    ext_lower = ext.lower()\n",
    "\n",
    "    if ext_lower == \".png\":\n",
    "        src = os.path.join(folder_path, filename)\n",
    "        dst = os.path.join(folder_path, name + \".jpg\")\n",
    "\n",
    "        try:\n",
    "            with Image.open(src) as img:\n",
    "                rgb_img = img.convert(\"RGB\")  # PNG는 알파 채널이 있어 RGB로 변환\n",
    "                rgb_img.save(dst, \"JPEG\")\n",
    "\n",
    "            if os.path.exists(dst):\n",
    "                os.remove(src)  # 저장 성공 시 원본 PNG 삭제\n",
    "                print(f\"✅ {filename} → {name}.jpg 변환 완료 및 원본 삭제\")\n",
    "            else:\n",
    "                print(f\"⚠️ {filename}: 저장 실패로 원본 유지됨\")\n",
    "\n",
    "        except Exception as e:\n",
    "            print(f\"❌ {filename} 변환 실패: {e}\")\n"
   ]
  },
  {
   "cell_type": "code",
   "execution_count": null,
   "id": "ed20bc0d",
   "metadata": {},
   "outputs": [],
   "source": []
  }
 ],
 "metadata": {
  "kernelspec": {
   "display_name": "venv",
   "language": "python",
   "name": "python3"
  },
  "language_info": {
   "codemirror_mode": {
    "name": "ipython",
    "version": 3
   },
   "file_extension": ".py",
   "mimetype": "text/x-python",
   "name": "python",
   "nbconvert_exporter": "python",
   "pygments_lexer": "ipython3",
   "version": "3.11.9"
  }
 },
 "nbformat": 4,
 "nbformat_minor": 5
}
