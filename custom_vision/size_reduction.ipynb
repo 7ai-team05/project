{
 "cells": [
  {
   "cell_type": "code",
   "execution_count": 1,
   "id": "5caafd35",
   "metadata": {},
   "outputs": [],
   "source": [
    "import os\n",
    "from PIL import Image\n",
    "import time\n",
    "\n",
    "def compress_images_recursive(root_folder, max_size_mb=4):\n",
    "    max_size = max_size_mb * 1024 * 1024  # 바이트로 변환\n",
    "\n",
    "    for dirpath, _, filenames in os.walk(root_folder):\n",
    "        for filename in filenames:\n",
    "            if not filename.lower().endswith(\".jpg\"):\n",
    "                continue\n",
    "\n",
    "            filepath = os.path.join(dirpath, filename)\n",
    "            filesize = os.path.getsize(filepath)\n",
    "\n",
    "            if filesize <= max_size:\n",
    "                print(f\"✅ {filename}: {filesize/1024:.1f}KB → 유지\")\n",
    "                continue\n",
    "\n",
    "            try:\n",
    "                img = Image.open(filepath).convert(\"RGB\")  # ✅ RGB 강제 변환\n",
    "                quality = 95\n",
    "                step = 5\n",
    "                compressed = False\n",
    "\n",
    "                for _ in range(10):\n",
    "                    temp_path = filepath + \".temp.jpg\"\n",
    "                    img.save(temp_path, format=\"JPEG\", quality=quality, optimize=True)\n",
    "\n",
    "                    time.sleep(0.1)  # 파일 저장 안정화\n",
    "                    temp_size = os.path.getsize(temp_path)\n",
    "\n",
    "                    if temp_size <= max_size:\n",
    "                        img.close()\n",
    "                        os.remove(filepath)  # 원본 삭제\n",
    "                        os.rename(temp_path, filepath)  # ✅ 안전하게 교체\n",
    "                        print(f\"⚠️ {filename}: 압축됨 → {temp_size/1024:.1f}KB (quality={quality})\")\n",
    "                        compressed = True\n",
    "                        break\n",
    "\n",
    "                    quality -= step\n",
    "\n",
    "                if not compressed:\n",
    "                    img.close()\n",
    "                    if os.path.exists(temp_path):\n",
    "                        os.remove(temp_path)\n",
    "                    print(f\"❌ {filename}: 압축 실패 (최저 quality={quality + step})\")\n",
    "\n",
    "            except Exception as e:\n",
    "                print(f\"❌ {filename}: 처리 중 오류 발생 → {e}\")\n",
    "\n"
   ]
  },
  {
   "cell_type": "code",
   "execution_count": 6,
   "id": "94d29c28",
   "metadata": {},
   "outputs": [
    {
     "name": "stdout",
     "output_type": "stream",
     "text": [
      "✅ 360_F_311285826_hpnEQj8txKtX5mCl4K7oHH4lkGuRxXvU.jpg: 86.5KB → 유지\n",
      "✅ 360_F_473057378_dvyrCRb7ZlOy0E8witgFIF6fkYw8LI0r.jpg: 92.9KB → 유지\n",
      "✅ 3df993938ec00a4fa2b5fc545e4d4a7b0975537f.71.9.9.3.jpg: 179.5KB → 유지\n",
      "✅ 4429bdc8f4bed76d1d63907a2008bfbd-1536x864.jpg: 980.6KB → 유지\n",
      "✅ drain5.jpg: 219.8KB → 유지\n",
      "✅ imgdac05e8dzik0zj.jpg: 98.5KB → 유지\n",
      "✅ o1080116614786240065.jpg: 369.1KB → 유지\n",
      "✅ o2304129614627900845.jpg: 719.4KB → 유지\n",
      "✅ OIP (1).jpg: 68.6KB → 유지\n",
      "✅ OIP (2).jpg: 51.6KB → 유지\n",
      "✅ OIP.jpg: 59.2KB → 유지\n",
      "✅ R (1).jpg: 38.1KB → 유지\n",
      "✅ R.jpg: 35.5KB → 유지\n",
      "✅ tsdr-pl-pipe230618t-5.jpg: 503.4KB → 유지\n"
     ]
    }
   ],
   "source": [
    "compress_images_recursive(\"0613ciga_test2\")    # 바꾸고 싶은 폴더주소 입력"
   ]
  },
  {
   "cell_type": "markdown",
   "id": "c403631d",
   "metadata": {},
   "source": [
    "### 점진적으로 4mb 이하로 줄여주는 코드"
   ]
  },
  {
   "cell_type": "code",
   "execution_count": 3,
   "id": "49a4f64e",
   "metadata": {},
   "outputs": [],
   "source": [
    "import os\n",
    "from PIL import Image\n",
    "from io import BytesIO\n",
    "\n",
    "def compress_image_to_under_4mb(image_path, temp_path, max_bytes=4 * 1024 * 1024, initial_quality=95):\n",
    "    img = Image.open(image_path).convert(\"RGB\")\n",
    "    quality = initial_quality\n",
    "    resize_factor = 0.95\n",
    "\n",
    "    while True:\n",
    "        buffer = BytesIO()\n",
    "        img.save(buffer, format=\"JPEG\", quality=quality)\n",
    "        size = buffer.tell()\n",
    "\n",
    "        if size <= max_bytes:\n",
    "            break\n",
    "\n",
    "        w, h = img.size\n",
    "        img = img.resize((int(w * resize_factor), int(h * resize_factor)), Image.LANCZOS)\n",
    "        quality = max(quality - 5, 30)\n",
    "\n",
    "        if quality <= 30 and min(img.size) < 300:\n",
    "            print(f\"⚠️ 너무 작아져서 압축 실패: {image_path}\")\n",
    "            return False\n",
    "\n",
    "    # 안정적으로 임시 파일에 저장\n",
    "    img.save(temp_path, format=\"JPEG\", quality=quality, optimize=True)\n",
    "    return True\n",
    "\n",
    "def compress_folder_to_4mb(folder_path):\n",
    "    for filename in os.listdir(folder_path):\n",
    "        if not filename.lower().endswith((\".jpg\", \".jpeg\", \".png\")):\n",
    "            continue\n",
    "\n",
    "        image_path = os.path.join(folder_path, filename)\n",
    "        temp_path = os.path.join(folder_path, f\"__temp__{filename}\")\n",
    "\n",
    "        # 압축 실행\n",
    "        success = compress_image_to_under_4mb(image_path, temp_path)\n",
    "\n",
    "        if success:\n",
    "            os.remove(image_path)  # 원본 삭제\n",
    "            os.rename(temp_path, image_path)  # 임시 → 원본으로 교체\n",
    "            print(f\"✅ 압축 및 교체 완료: {filename}\")\n",
    "        else:\n",
    "            if os.path.exists(temp_path):\n",
    "                os.remove(temp_path)\n",
    "            print(f\"❌ 압축 실패: {filename}\")\n"
   ]
  },
  {
   "cell_type": "code",
   "execution_count": 7,
   "id": "bcabfe11",
   "metadata": {},
   "outputs": [
    {
     "name": "stdout",
     "output_type": "stream",
     "text": [
      "✅ 압축 및 교체 완료: 360_F_311285826_hpnEQj8txKtX5mCl4K7oHH4lkGuRxXvU.jpg\n",
      "✅ 압축 및 교체 완료: 360_F_473057378_dvyrCRb7ZlOy0E8witgFIF6fkYw8LI0r.jpg\n",
      "✅ 압축 및 교체 완료: 3df993938ec00a4fa2b5fc545e4d4a7b0975537f.71.9.9.3.jpg\n",
      "✅ 압축 및 교체 완료: 4429bdc8f4bed76d1d63907a2008bfbd-1536x864.jpg\n",
      "✅ 압축 및 교체 완료: drain5.jpg\n",
      "✅ 압축 및 교체 완료: imgdac05e8dzik0zj.jpg\n",
      "✅ 압축 및 교체 완료: o1080116614786240065.jpg\n",
      "✅ 압축 및 교체 완료: o2304129614627900845.jpg\n",
      "✅ 압축 및 교체 완료: OIP (1).jpg\n",
      "✅ 압축 및 교체 완료: OIP (2).jpg\n",
      "✅ 압축 및 교체 완료: OIP.jpg\n",
      "✅ 압축 및 교체 완료: R (1).jpg\n",
      "✅ 압축 및 교체 완료: R.jpg\n",
      "✅ 압축 및 교체 완료: tsdr-pl-pipe230618t-5.jpg\n"
     ]
    }
   ],
   "source": [
    "compress_folder_to_4mb(\"0613ciga_test2\")"
   ]
  }
 ],
 "metadata": {
  "kernelspec": {
   "display_name": "venv",
   "language": "python",
   "name": "python3"
  },
  "language_info": {
   "codemirror_mode": {
    "name": "ipython",
    "version": 3
   },
   "file_extension": ".py",
   "mimetype": "text/x-python",
   "name": "python",
   "nbconvert_exporter": "python",
   "pygments_lexer": "ipython3",
   "version": "3.11.9"
  }
 },
 "nbformat": 4,
 "nbformat_minor": 5
}
