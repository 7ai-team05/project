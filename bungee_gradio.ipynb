{
 "cells": [
  {
   "cell_type": "code",
   "execution_count": 4,
   "id": "78b38542",
   "metadata": {},
   "outputs": [
    {
     "name": "stdout",
     "output_type": "stream",
     "text": [
      "* Running on local URL:  http://127.0.0.1:7863\n",
      "* Running on public URL: https://42131ed9d10dd2032d.gradio.live\n",
      "\n",
      "This share link expires in 1 week. For free permanent hosting and GPU upgrades, run `gradio deploy` from the terminal in the working directory to deploy to Hugging Face Spaces (https://huggingface.co/spaces)\n"
     ]
    },
    {
     "data": {
      "text/html": [
       "<div><iframe src=\"https://42131ed9d10dd2032d.gradio.live\" width=\"100%\" height=\"500\" allow=\"autoplay; camera; microphone; clipboard-read; clipboard-write;\" frameborder=\"0\" allowfullscreen></iframe></div>"
      ],
      "text/plain": [
       "<IPython.core.display.HTML object>"
      ]
     },
     "metadata": {},
     "output_type": "display_data"
    },
    {
     "data": {
      "text/plain": []
     },
     "execution_count": 4,
     "metadata": {},
     "output_type": "execute_result"
    }
   ],
   "source": [
    "import requests\n",
    "from PIL import Image\n",
    "import gradio as gr\n",
    "import io\n",
    "\n",
    "# Prediction 설정\n",
    "PREDICTION_KEY = \"5k8oJDDDmqLn5Yy9n1Q16CHetW6H0pvTjFPj1Q4JpQl7dAVJE0WhJQQJ99BEACYeBjFXJ3w3AAAIACOGZmg4\"\n",
    "ENDPOINT_URL = \"https://cv7934-prediction.cognitiveservices.azure.com/customvision/v3.0/Prediction/92adf90f-3b67-4923-b2eb-1804da244279/detect/iterations/Iteration1/image\"\n",
    "\n",
    "headers = {\n",
    "    \"Prediction-Key\": PREDICTION_KEY,\n",
    "    \"Content-Type\": \"application/octet-stream\"\n",
    "}\n",
    "\n",
    "# 예측 함수\n",
    "def predict_with_api(image: Image.Image):\n",
    "    try:\n",
    "        buf = io.BytesIO()\n",
    "        image.save(buf, format='JPEG')\n",
    "        byte_data = buf.getvalue()\n",
    "        \n",
    "        response = requests.post(ENDPOINT_URL, headers=headers, data=byte_data)\n",
    "\n",
    "        if response.status_code != 200:\n",
    "            return f\"API 호출 실패: {response.status_code} - {response.text}\"\n",
    "        \n",
    "        predictions = response.json().get(\"predictions\", [])\n",
    "        if not predictions:\n",
    "            return \"예측 결과 없음\"\n",
    "\n",
    "        top_prediction = max(predictions, key=lambda x: x[\"probability\"])\n",
    "        label = top_prediction[\"tagName\"]\n",
    "        probability = top_prediction[\"probability\"]\n",
    "        \n",
    "        return f\"{label} ({probability*100:.2f}%)\"\n",
    "    \n",
    "    except Exception as e:\n",
    "        return f\"예외 발생: {str(e)}\"\n",
    "\n",
    "# Gradio 인터페이스 (웹캠 사용)\n",
    "interface = gr.Interface(\n",
    "    fn=predict_with_api,\n",
    "    inputs=gr.Image(type=\"pil\", sources=[\"webcam\"]),  # 📷 카메라 입력\n",
    "    outputs=gr.Text(),\n",
    "    title=\"Custom Vision 실시간 예측\",\n",
    "    description=\"카메라로 사진을 찍어 예측 결과를 확인해보세요.\"\n",
    ")\n",
    "\n",
    "interface = gr.Interface(\n",
    "    fn=predict_with_api,\n",
    "    inputs=gr.Image(type=\"pil\"),  # 카메라 입력 허용!\n",
    "    outputs=gr.Text(),\n",
    "    title=\"Custom Vision 실시간 예측\",\n",
    "    description=\"카메라로 사진을 찍어 예측 결과를 확인해보세요.\"\n",
    ")\n",
    "interface.launch(share=True)\n",
    "\n",
    "\n"
   ]
  }
 ],
 "metadata": {
  "kernelspec": {
   "display_name": "Python 3",
   "language": "python",
   "name": "python3"
  },
  "language_info": {
   "codemirror_mode": {
    "name": "ipython",
    "version": 3
   },
   "file_extension": ".py",
   "mimetype": "text/x-python",
   "name": "python",
   "nbconvert_exporter": "python",
   "pygments_lexer": "ipython3",
   "version": "3.11.9"
  }
 },
 "nbformat": 4,
 "nbformat_minor": 5
}
