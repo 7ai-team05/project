{
 "cells": [
  {
   "cell_type": "code",
   "execution_count": 1,
   "id": "c3d6d049",
   "metadata": {},
   "outputs": [
    {
     "name": "stdout",
     "output_type": "stream",
     "text": [
      "Requirement already satisfied: pillow in c:\\users\\user\\anaconda3\\lib\\site-packages (11.2.1)\n",
      "Note: you may need to restart the kernel to use updated packages.\n"
     ]
    }
   ],
   "source": [
    "pip install pillow"
   ]
  },
  {
   "cell_type": "code",
   "execution_count": 1,
   "id": "bd01c0e6",
   "metadata": {},
   "outputs": [
    {
     "name": "stdout",
     "output_type": "stream",
     "text": [
      "변환 완료: C:/Users/USER/Desktop/no_담배 이미지\\converted_images\\1000_F_179152264_oDXn15H5rlVA8vVIOLYOtEFjJ3YE6PGk.jpg\n",
      "변환 완료: C:/Users/USER/Desktop/no_담배 이미지\\converted_images\\1000_F_684270486_MeMtki9NSHi9T2V1keW1m7SmotxECAYZ.jpg\n",
      "변환 완료: C:/Users/USER/Desktop/no_담배 이미지\\converted_images\\1000_F_753254029_GHk60JCMY4Db6r54d8buaml03ZpcIxos.jpg\n",
      "변환 완료: C:/Users/USER/Desktop/no_담배 이미지\\converted_images\\14985_0_kreidestifte_weiss_3867_1.jpg\n",
      "변환 완료: C:/Users/USER/Desktop/no_담배 이미지\\converted_images\\20230809164700.jpg\n",
      "변환 완료: C:/Users/USER/Desktop/no_담배 이미지\\converted_images\\210035335_2673303816295580_1193481950564222526_n_2673303809628914.jpg\n",
      "변환 완료: C:/Users/USER/Desktop/no_담배 이미지\\converted_images\\2a9c4032d54530b4ec68b48f3786b4b7_t.jpg\n",
      "변환 완료: C:/Users/USER/Desktop/no_담배 이미지\\converted_images\\2C019A4E00000578-3223659-image-a-132_1441484254621.jpg\n",
      "변환 완료: C:/Users/USER/Desktop/no_담배 이미지\\converted_images\\360_F_140812068_mS7tgAPjPyfsgYvDYdWoz47JJAqpo1ZQ.jpg\n",
      "변환 완료: C:/Users/USER/Desktop/no_담배 이미지\\converted_images\\360_F_249912892_x0kuGCp2V8xnXHGmJtbYNHO3HptJDIB1.jpg\n",
      "변환 완료: C:/Users/USER/Desktop/no_담배 이미지\\converted_images\\360_F_275857085_kML60FnaVOKlpLt6JAlknf8R24nnkQsK.jpg\n",
      "변환 완료: C:/Users/USER/Desktop/no_담배 이미지\\converted_images\\360_F_515688505_7W4Bm2efOgMwxhoUqKlZ0ZQFkXbOTLtF.jpg\n",
      "변환 완료: C:/Users/USER/Desktop/no_담배 이미지\\converted_images\\360_F_540417071_xy2zyYXDrxeMgnNtGZl8YgAZKJhIklTx.jpg\n",
      "변환 완료: C:/Users/USER/Desktop/no_담배 이미지\\converted_images\\41Qkx3v4AwL.__AC_SX300_SY300_QL70_ML2_.jpg\n",
      "변환 완료: C:/Users/USER/Desktop/no_담배 이미지\\converted_images\\4967718948504_t.jpg\n",
      "변환 완료: C:/Users/USER/Desktop/no_담배 이미지\\converted_images\\500_F_109927440_Kv8K4RIVsPv7Eprznfwjk2nSus3QxEq8.jpg\n",
      "변환 완료: C:/Users/USER/Desktop/no_담배 이미지\\converted_images\\500_F_134522959_4v9sSrjuET8rTwqrCYNe3xUteLxAOgWJ.jpg\n",
      "변환 완료: C:/Users/USER/Desktop/no_담배 이미지\\converted_images\\50778057101_fd59b5d133_b.jpg\n",
      "변환 완료: C:/Users/USER/Desktop/no_담배 이미지\\converted_images\\52472015711_4b047be679_b.jpg\n",
      "변환 완료: C:/Users/USER/Desktop/no_담배 이미지\\converted_images\\5d0ef8848daaf76d5ee5023f5c512612_w.jpg\n",
      "변환 완료: C:/Users/USER/Desktop/no_담배 이미지\\converted_images\\7310009088_15b5c23ffa.jpg\n",
      "변환 완료: C:/Users/USER/Desktop/no_담배 이미지\\converted_images\\7ed602002ec344dbbdf376eb42375956-e1679640414201.jpg\n",
      "변환 완료: C:/Users/USER/Desktop/no_담배 이미지\\converted_images\\7fc5ef8829b3a8ebfb28e6eae5b7fd85_w.jpg\n",
      "변환 완료: C:/Users/USER/Desktop/no_담배 이미지\\converted_images\\8-2-1024x682.jpg\n",
      "변환 완료: C:/Users/USER/Desktop/no_담배 이미지\\converted_images\\823a4fc27910300c5f59c1d4de850c3b.jpg\n",
      "변환 완료: C:/Users/USER/Desktop/no_담배 이미지\\converted_images\\A (13).jpg\n",
      "변환 완료: C:/Users/USER/Desktop/no_담배 이미지\\converted_images\\a-drain-in-a-school-with-such-bad-positioning-it-is-v0-z3780jwtgd0a1.jpg\n",
      "변환 완료: C:/Users/USER/Desktop/no_담배 이미지\\converted_images\\c7788.jpg\n",
      "변환 완료: C:/Users/USER/Desktop/no_담배 이미지\\converted_images\\caditoie sant'angelo in formis1.jpg\n",
      "변환 완료: C:/Users/USER/Desktop/no_담배 이미지\\converted_images\\close-up-shot-pine-cone-close-up-shot-pine-cone-laying-ground-borsec-harghita-romania-292455412.jpg\n",
      "변환 완료: C:/Users/USER/Desktop/no_담배 이미지\\converted_images\\closeup-group-pine-cones-eaten-squirrels-some-crunched-well-aligned-granite-stone-141887205.jpg\n",
      "변환 완료: C:/Users/USER/Desktop/no_담배 이미지\\converted_images\\Comment-faire-un-bon-drainage-autour-dune-maison-.jpg\n",
      "오류 발생: converted_images - [Errno 13] Permission denied: 'C:/Users/USER/Desktop/no_담배 이미지\\\\converted_images'\n",
      "변환 완료: C:/Users/USER/Desktop/no_담배 이미지\\converted_images\\crumpled-paper-20183819.jpg\n",
      "변환 완료: C:/Users/USER/Desktop/no_담배 이미지\\converted_images\\crumpled-paper-balls-realistic-garbage-600w-1912170124.jpg\n",
      "변환 완료: C:/Users/USER/Desktop/no_담배 이미지\\converted_images\\depositphotos_13736667-stock-photo-paper-ball-crumpled-garbage-frustration.jpg\n",
      "변환 완료: C:/Users/USER/Desktop/no_담배 이미지\\converted_images\\dfd75c2c6272405d31ddd5c8f5987071_w.jpg\n",
      "변환 완료: C:/Users/USER/Desktop/no_담배 이미지\\converted_images\\drain-grate-garbage-on-260nw-420228460.jpg\n",
      "변환 완료: C:/Users/USER/Desktop/no_담배 이미지\\converted_images\\drain-grate-garbage-on-it-260nw-2244845057.jpg\n",
      "변환 완료: C:/Users/USER/Desktop/no_담배 이미지\\converted_images\\DSCN3083.jpg\n",
      "변환 완료: C:/Users/USER/Desktop/no_담배 이미지\\converted_images\\ede06127-703d-4ca2-90ba-4ae479576173_m.jpg\n",
      "변환 완료: C:/Users/USER/Desktop/no_담배 이미지\\converted_images\\grate-cracked-cement-around-sits-260nw-2231753727.jpg\n",
      "변환 완료: C:/Users/USER/Desktop/no_담배 이미지\\converted_images\\hot-melt-glue-stick-118.jpg\n",
      "변환 완료: C:/Users/USER/Desktop/no_담배 이미지\\converted_images\\image-asset.jpg\n",
      "변환 완료: C:/Users/USER/Desktop/no_담배 이미지\\converted_images\\image.jpg\n",
      "변환 완료: C:/Users/USER/Desktop/no_담배 이미지\\converted_images\\img-pozzetti-3-575x382.jpg\n",
      "변환 완료: C:/Users/USER/Desktop/no_담배 이미지\\converted_images\\istockphoto-1179568768-612x612.jpg\n",
      "변환 완료: C:/Users/USER/Desktop/no_담배 이미지\\converted_images\\large.jpg\n",
      "변환 완료: C:/Users/USER/Desktop/no_담배 이미지\\converted_images\\manhole-in-rome-1564050.jpg\n",
      "변환 완료: C:/Users/USER/Desktop/no_담배 이미지\\converted_images\\news-p.v1.20240606.6594109fd0a24845b8b324d2a421b755_P1.jpg\n",
      "변환 완료: C:/Users/USER/Desktop/no_담배 이미지\\converted_images\\OIP (1).jpg\n",
      "변환 완료: C:/Users/USER/Desktop/no_담배 이미지\\converted_images\\OIP (10).jpg\n",
      "변환 완료: C:/Users/USER/Desktop/no_담배 이미지\\converted_images\\OIP (11).jpg\n",
      "변환 완료: C:/Users/USER/Desktop/no_담배 이미지\\converted_images\\OIP (12).jpg\n",
      "변환 완료: C:/Users/USER/Desktop/no_담배 이미지\\converted_images\\OIP (13).jpg\n",
      "변환 완료: C:/Users/USER/Desktop/no_담배 이미지\\converted_images\\OIP (14).jpg\n",
      "변환 완료: C:/Users/USER/Desktop/no_담배 이미지\\converted_images\\OIP (15).jpg\n",
      "변환 완료: C:/Users/USER/Desktop/no_담배 이미지\\converted_images\\OIP (16).jpg\n",
      "변환 완료: C:/Users/USER/Desktop/no_담배 이미지\\converted_images\\OIP (17).jpg\n",
      "변환 완료: C:/Users/USER/Desktop/no_담배 이미지\\converted_images\\OIP (18).jpg\n",
      "변환 완료: C:/Users/USER/Desktop/no_담배 이미지\\converted_images\\OIP (19).jpg\n",
      "변환 완료: C:/Users/USER/Desktop/no_담배 이미지\\converted_images\\OIP (2).jpg\n",
      "변환 완료: C:/Users/USER/Desktop/no_담배 이미지\\converted_images\\OIP (20).jpg\n",
      "변환 완료: C:/Users/USER/Desktop/no_담배 이미지\\converted_images\\OIP (21).jpg\n",
      "변환 완료: C:/Users/USER/Desktop/no_담배 이미지\\converted_images\\OIP (22).jpg\n",
      "변환 완료: C:/Users/USER/Desktop/no_담배 이미지\\converted_images\\OIP (23).jpg\n",
      "변환 완료: C:/Users/USER/Desktop/no_담배 이미지\\converted_images\\OIP (24).jpg\n",
      "변환 완료: C:/Users/USER/Desktop/no_담배 이미지\\converted_images\\OIP (25).jpg\n",
      "변환 완료: C:/Users/USER/Desktop/no_담배 이미지\\converted_images\\OIP (26).jpg\n",
      "변환 완료: C:/Users/USER/Desktop/no_담배 이미지\\converted_images\\OIP (27).jpg\n",
      "변환 완료: C:/Users/USER/Desktop/no_담배 이미지\\converted_images\\OIP (28).jpg\n",
      "변환 완료: C:/Users/USER/Desktop/no_담배 이미지\\converted_images\\OIP (29).jpg\n",
      "변환 완료: C:/Users/USER/Desktop/no_담배 이미지\\converted_images\\OIP (3).jpg\n",
      "변환 완료: C:/Users/USER/Desktop/no_담배 이미지\\converted_images\\OIP (30).jpg\n",
      "변환 완료: C:/Users/USER/Desktop/no_담배 이미지\\converted_images\\OIP (31).jpg\n",
      "변환 완료: C:/Users/USER/Desktop/no_담배 이미지\\converted_images\\OIP (32).jpg\n",
      "변환 완료: C:/Users/USER/Desktop/no_담배 이미지\\converted_images\\OIP (33).jpg\n",
      "변환 완료: C:/Users/USER/Desktop/no_담배 이미지\\converted_images\\OIP (34).jpg\n",
      "변환 완료: C:/Users/USER/Desktop/no_담배 이미지\\converted_images\\OIP (35).jpg\n",
      "변환 완료: C:/Users/USER/Desktop/no_담배 이미지\\converted_images\\OIP (4).jpg\n",
      "변환 완료: C:/Users/USER/Desktop/no_담배 이미지\\converted_images\\OIP (5).jpg\n",
      "변환 완료: C:/Users/USER/Desktop/no_담배 이미지\\converted_images\\OIP (6).jpg\n",
      "변환 완료: C:/Users/USER/Desktop/no_담배 이미지\\converted_images\\OIP (7).jpg\n",
      "변환 완료: C:/Users/USER/Desktop/no_담배 이미지\\converted_images\\OIP (8).jpg\n",
      "변환 완료: C:/Users/USER/Desktop/no_담배 이미지\\converted_images\\OIP (9).jpg\n",
      "변환 완료: C:/Users/USER/Desktop/no_담배 이미지\\converted_images\\OIP.jpg\n",
      "변환 완료: C:/Users/USER/Desktop/no_담배 이미지\\converted_images\\OIP.jpg\n",
      "변환 완료: C:/Users/USER/Desktop/no_담배 이미지\\converted_images\\paper-ball-crumpled-EJJ9JR.jpg\n",
      "오류 발생: pflastersteine-nahaufnahme_252085-34762.avif - cannot identify image file 'C:/Users/USER/Desktop/no_담배 이미지\\\\pflastersteine-nahaufnahme_252085-34762.avif'\n"
     ]
    },
    {
     "name": "stderr",
     "output_type": "stream",
     "text": [
      "c:\\Users\\USER\\anaconda3\\Lib\\site-packages\\PIL\\Image.py:3570: UserWarning: image file could not be identified because AVIF support not installed\n",
      "  warnings.warn(message)\n"
     ]
    },
    {
     "name": "stdout",
     "output_type": "stream",
     "text": [
      "변환 완료: C:/Users/USER/Desktop/no_담배 이미지\\converted_images\\pine-corn-pinecone-fell-down-one-ground-wood-sequoia-national-park-soft-brown-tone-blank-space-112876839.jpg\n",
      "변환 완료: C:/Users/USER/Desktop/no_담배 이미지\\converted_images\\R (1).jpg\n",
      "변환 완료: C:/Users/USER/Desktop/no_담배 이미지\\converted_images\\R (2).jpg\n",
      "변환 완료: C:/Users/USER/Desktop/no_담배 이미지\\converted_images\\R (3).jpg\n",
      "변환 완료: C:/Users/USER/Desktop/no_담배 이미지\\converted_images\\R (4).jpg\n",
      "변환 완료: C:/Users/USER/Desktop/no_담배 이미지\\converted_images\\R (5).jpg\n",
      "변환 완료: C:/Users/USER/Desktop/no_담배 이미지\\converted_images\\R (6).jpg\n",
      "변환 완료: C:/Users/USER/Desktop/no_담배 이미지\\converted_images\\R (7).jpg\n",
      "변환 완료: C:/Users/USER/Desktop/no_담배 이미지\\converted_images\\R.jpg\n",
      "변환 완료: C:/Users/USER/Desktop/no_담배 이미지\\converted_images\\Sinkkastenreinigung.jpg\n",
      "변환 완료: C:/Users/USER/Desktop/no_담배 이미지\\converted_images\\storm-drain-grate-cracked-asphalt-rusty-storm-drain-grate-cracked-asphalt-219429889.jpg\n",
      "변환 완료: C:/Users/USER/Desktop/no_담배 이미지\\converted_images\\Storm_Drain_Dryden.jpg\n",
      "변환 완료: C:/Users/USER/Desktop/no_담배 이미지\\converted_images\\thumbnail_large-1.jpg\n",
      "변환 완료: C:/Users/USER/Desktop/no_담배 이미지\\converted_images\\white_stick_0.jpg\n",
      "모든 변환 작업이 완료되었습니다.\n"
     ]
    }
   ],
   "source": [
    "from PIL import Image\n",
    "import os\n",
    "\n",
    "# 변환할 폴더 경로\n",
    "folder_path = \"C:/Users/USER/Desktop/no_담배 이미지\"\n",
    "output_folder = os.path.join(folder_path, \"converted_images\")\n",
    "\n",
    "# 변환된 이미지를 저장할 폴더 생성\n",
    "os.makedirs(output_folder, exist_ok=True)\n",
    "\n",
    "# 폴더 내 모든 파일 조회\n",
    "for filename in os.listdir(folder_path):\n",
    "    file_path = os.path.join(folder_path, filename)\n",
    "\n",
    "    # 이미지 파일 확인\n",
    "    try:\n",
    "        with Image.open(file_path) as img:\n",
    "            # JPG 형식으로 저장\n",
    "            output_path = os.path.join(output_folder, f\"{os.path.splitext(filename)[0]}.jpg\")\n",
    "            img.convert(\"RGB\").save(output_path, \"JPEG\")\n",
    "            print(f\"변환 완료: {output_path}\")\n",
    "    except Exception as e:\n",
    "        print(f\"오류 발생: {filename} - {e}\")\n",
    "\n",
    "print(\"모든 변환 작업이 완료되었습니다.\")"
   ]
  }
 ],
 "metadata": {
  "kernelspec": {
   "display_name": "base",
   "language": "python",
   "name": "python3"
  },
  "language_info": {
   "codemirror_mode": {
    "name": "ipython",
    "version": 3
   },
   "file_extension": ".py",
   "mimetype": "text/x-python",
   "name": "python",
   "nbconvert_exporter": "python",
   "pygments_lexer": "ipython3",
   "version": "3.12.7"
  }
 },
 "nbformat": 4,
 "nbformat_minor": 5
}
