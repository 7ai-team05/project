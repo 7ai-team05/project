{
 "cells": [
  {
   "cell_type": "code",
   "execution_count": null,
   "id": "d226c221",
   "metadata": {},
   "outputs": [],
   "source": [
    "# pip install azure-cognitiveservices-vision-customvision\n",
    "from azure.cognitiveservices.vision.customvision.prediction import CustomVisionPredictionClient\n",
    "from msrest.authentication import ApiKeyCredentials\n",
    "\n",
    "# Azure Custom Vision 설정\n",
    "ENDPOINT = \"https://your-custom-vision-endpoint.com/\"\n",
    "PROJECT_ID = \"your_project_id\"\n",
    "PREDICTION_KEY = \"your_prediction_key\"\n",
    "\n",
    "# API 인증 설정\n",
    "credentials = ApiKeyCredentials(in_headers={\"Prediction-key\": PREDICTION_KEY})\n",
    "predictor = CustomVisionPredictionClient(ENDPOINT, credentials)\n",
    "\n",
    "# 이미지 로드 및 예측 실행\n",
    "image_path = \"heavy/KakaoTalk_20250602_102502287_29.jpg\"\n",
    "with open(image_path, \"rb\") as image_data:\n",
    "    result = predictor.classify_image(PROJECT_ID, \"classification_model\", image_data)\n",
    "\n",
    "    # 결과 출력\n",
    "    for prediction in result.predictions:\n",
    "        print(f\"Category: {prediction.tag_name}, Probability: {prediction.probability * 100:.2f}%\")"
   ]
  }
 ],
 "metadata": {
  "language_info": {
   "name": "python"
  }
 },
 "nbformat": 4,
 "nbformat_minor": 5
}
