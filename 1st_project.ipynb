{
 "cells": [
  {
   "cell_type": "code",
   "execution_count": 4,
   "id": "85cedfa0",
   "metadata": {},
   "outputs": [
    {
     "name": "stdout",
     "output_type": "stream",
     "text": [
      "표면 막힘 비율: 1.00\n"
     ]
    }
   ],
   "source": [
    "import cv2\n",
    "import numpy as np\n",
    "\n",
    "# 이미지 로드\n",
    "img = cv2.imread(\"C:/Users/USER/Downloads/Picture_250531/gangnam_noon/IMG_6243.jpg\")\n",
    "gray = cv2.cvtColor(img, cv2.COLOR_BGR2GRAY)\n",
    "\n",
    "# 이진화 (픽셀 밝기 기준 threshold)\n",
    "_, binary = cv2.threshold(gray, 100, 255, cv2.THRESH_BINARY_INV)\n",
    "\n",
    "# 컨투어 검출 (격자 구멍 후보)\n",
    "contours, _ = cv2.findContours(binary, cv2.RETR_EXTERNAL, cv2.CHAIN_APPROX_SIMPLE)\n",
    "\n",
    "# 구멍 개수 카운트\n",
    "total_holes = 0\n",
    "blocked_holes = 0\n",
    "\n",
    "for cnt in contours:\n",
    "    area = cv2.contourArea(cnt)\n",
    "    if area < 100:  # 작은 잡음 제거 (튜닝 필요)\n",
    "        continue\n",
    "    total_holes += 1\n",
    "    \n",
    "    # 각 구멍의 픽셀 밀도 판단 (막힘 여부)\n",
    "    mask = np.zeros_like(gray)\n",
    "    cv2.drawContours(mask, [cnt], -1, 255, -1)\n",
    "    mean_val = cv2.mean(gray, mask=mask)[0]\n",
    "    \n",
    "    if mean_val < 100:  # 임계값 (어두우면 막힌 것으로 판단)\n",
    "        blocked_holes += 1\n",
    "\n",
    "# 표면 막힘 비율 계산\n",
    "surface_ratio = blocked_holes / total_holes if total_holes > 0 else 0\n",
    "print(f\"표면 막힘 비율: {surface_ratio:.2f}\")\n",
    "\n",
    "# 디버그 시각화 (선택)\n",
    "cv2.drawContours(img, contours, -1, (0, 255, 0), 2)\n",
    "cv2.imshow(\"Contours\", img)\n",
    "cv2.waitKey(0)\n",
    "cv2.destroyAllWindows()"
   ]
  }
 ],
 "metadata": {
  "kernelspec": {
   "display_name": "Python 3",
   "language": "python",
   "name": "python3"
  },
  "language_info": {
   "codemirror_mode": {
    "name": "ipython",
    "version": 3
   },
   "file_extension": ".py",
   "mimetype": "text/x-python",
   "name": "python",
   "nbconvert_exporter": "python",
   "pygments_lexer": "ipython3",
   "version": "3.11.9"
  }
 },
 "nbformat": 4,
 "nbformat_minor": 5
}
